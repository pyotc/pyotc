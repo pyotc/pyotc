{
 "cells": [
  {
   "cell_type": "code",
   "execution_count": 2,
   "metadata": {
    "id": "2PCKofB86kUj"
   },
   "outputs": [],
   "source": [
    "import numpy as np\n",
    "from numpy.linalg import pinv\n",
    "from scipy.optimize import linprog\n",
    "from scipy.linalg import fractional_matrix_power\n",
    "import copy"
   ]
  },
  {
   "cell_type": "code",
   "execution_count": 3,
   "metadata": {
    "id": "nqIqEkX_6neS"
   },
   "outputs": [],
   "source": [
    "def get_ind_tc(Px, Py):\n",
    "    dx, dx_col = Px.shape\n",
    "    dy, dy_col = Py.shape\n",
    "\n",
    "    P_ind = np.zeros((dx * dy, dx_col * dy_col))\n",
    "    for x_row in range(dx):\n",
    "        for x_col in range(dx_col):\n",
    "            for y_row in range(dy):\n",
    "                for y_col in range(dy_col):\n",
    "                    idx1 = dy * (x_row) + y_row\n",
    "                    idx2 = dy * (x_col) + y_col\n",
    "                    P_ind[idx1, idx2] = Px[x_row, x_col] * Py[y_row, y_col]\n",
    "    return P_ind"
   ]
  },
  {
   "cell_type": "code",
   "execution_count": 4,
   "metadata": {
    "id": "gkes2QWO6sXU"
   },
   "outputs": [],
   "source": [
    "def exact_tce(Pz, c):\n",
    "    d = Pz.shape[0]\n",
    "    # c = np.reshape(c.T, (d, -1))\n",
    "    c = np.reshape(c, (d, -1))\n",
    "    A = np.block(\n",
    "        [\n",
    "            [np.eye(d) - Pz, np.zeros((d, d)), np.zeros((d, d))],\n",
    "            [np.eye(d), np.eye(d) - Pz, np.zeros((d, d))],\n",
    "            [np.zeros((d, d)), np.eye(d), np.eye(d) - Pz],\n",
    "        ]\n",
    "    )\n",
    "    # b = np.block([np.zeros((d, 1)), c, np.zeros((d, 1))])\n",
    "    b = np.concatenate([np.zeros((d, 1)), c, np.zeros((d, 1))])\n",
    "    try:\n",
    "        sol = np.linalg.solve(A, b)\n",
    "    # except np.linalg.LinAlgError:\n",
    "    except:\n",
    "        sol = np.matmul(pinv(A), b)\n",
    "    # sol = sol.T\n",
    "    # g = sol[0:d].T\n",
    "    # h = sol[d:2*d].T\n",
    "    g = sol[0:d].flatten()\n",
    "    h = sol[d : 2 * d].flatten()\n",
    "    return g, h"
   ]
  },
  {
   "cell_type": "code",
   "execution_count": 5,
   "metadata": {
    "id": "rO88i6R16ubJ"
   },
   "outputs": [],
   "source": [
    "def computeot_lp(C, r, c):\n",
    "    # nx = r.shape[0]\n",
    "    # ny = c.shape[1]\n",
    "    nx = r.size\n",
    "    ny = c.size\n",
    "    Aeq = np.zeros((nx + ny, nx * ny))\n",
    "    beq = np.concatenate((r.flatten(), c.flatten()))\n",
    "    beq = beq.reshape(-1, 1)\n",
    "\n",
    "    # column sums correct\n",
    "    for row in range(nx):\n",
    "        for t in range(ny):\n",
    "            Aeq[row, (row * ny) + t] = 1\n",
    "\n",
    "    # row sums correct\n",
    "    for row in range(nx, nx + ny):\n",
    "        for t in range(nx):\n",
    "            Aeq[row, t * ny + (row - nx)] = 1\n",
    "\n",
    "    # lb = np.zeros(nx*ny)\n",
    "    bound = [[0, None]] * (nx * ny)\n",
    "\n",
    "    # solve OT LP using linprog\n",
    "    # cost = C.flatten()\n",
    "    cost = C.reshape(-1, 1)\n",
    "    # res = linprog(cost, A_eq=Aeq, b_eq=beq, bounds=(lb, None), method='highs')\n",
    "    res = linprog(cost, A_eq=Aeq, b_eq=beq, bounds=bound, method=\"highs\")\n",
    "    lp_sol = res.x\n",
    "    lp_val = res.fun\n",
    "    return lp_sol, lp_val"
   ]
  },
  {
   "cell_type": "code",
   "execution_count": 7,
   "metadata": {
    "id": "am2W575n6vUb"
   },
   "outputs": [],
   "source": [
    "def exact_tci(g, h, P0, Px, Py):\n",
    "    # x_sizes = Px.shape\n",
    "    # y_sizes = Py.shape\n",
    "    # dx = x_sizes[0]\n",
    "    # dy = y_sizes[0]\n",
    "    dx = Px.shape[0]\n",
    "    dy = Py.shape[0]\n",
    "    Pz = np.zeros((dx * dy, dx * dy))\n",
    "    # print(1, P0[18, 1])\n",
    "    ## Try to improve with respect to g.\n",
    "    # Check if g is constant.\n",
    "    g_const = True\n",
    "    for i in range(dx):\n",
    "        for j in range(i + 1, dx):\n",
    "            if abs(g[i] - g[j]) > 1e-3:\n",
    "                g_const = False\n",
    "                break\n",
    "        if not g_const:\n",
    "            break\n",
    "    # If g is not constant, improve transition coupling against g.\n",
    "    # print(2, P0[18, 1])\n",
    "    # print(P[18, 1])\n",
    "    if not g_const:\n",
    "        # g_mat = np.reshape(g, (dx, dy)).T\n",
    "        g_mat = np.reshape(g, (dx, dy))\n",
    "        for x_row in range(dx):\n",
    "            for y_row in range(dy):\n",
    "                dist_x = Px[x_row, :]\n",
    "                dist_y = Py[y_row, :]\n",
    "                # Check if either distribution is degenerate.\n",
    "                if any(dist_x == 1) or any(dist_y == 1):\n",
    "                    sol = np.outer(dist_x, dist_y)\n",
    "                # If not degenerate, proceed with OT.\n",
    "                else:\n",
    "                    sol, val = computeot_lp(g_mat, dist_x, dist_y)\n",
    "                idx = dy * (x_row) + y_row\n",
    "                Pz[idx, :] = np.reshape(sol, (-1, dx * dy))\n",
    "                # P[idx, :] = sol\n",
    "        if np.max(np.abs(np.matmul(P0, g) - np.matmul(Pz, g))) <= 1e-7:\n",
    "            # print('HERER')\n",
    "            Pz = copy.deepcopy(P0)\n",
    "        else:\n",
    "            return Pz\n",
    "    # print(3, P0[18, 1])\n",
    "    # print(P[18, 1])\n",
    "    ## Try to improve with respect to h.\n",
    "    h_mat = np.reshape(h, (dx, dy))\n",
    "    for x_row in range(dx):\n",
    "        for y_row in range(dy):\n",
    "            dist_x = Px[x_row, :]\n",
    "            dist_y = Py[y_row, :]\n",
    "            # Check if either distribution is degenerate.\n",
    "            if any(dist_x == 1) or any(dist_y == 1):\n",
    "                sol = np.outer(dist_x, dist_y)\n",
    "            # If not degenerate, proceed with OT.\n",
    "            else:\n",
    "                sol, val = computeot_lp(h_mat, dist_x, dist_y)\n",
    "            idx = dy * (x_row) + y_row\n",
    "            # print(x_row, y_row, P0[18, 1])\n",
    "            Pz[idx, :] = np.reshape(sol, (-1, dx * dy))\n",
    "\n",
    "    if np.max(np.abs(np.matmul(P0, h) - np.matmul(Pz, h))) <= 1e-4:\n",
    "        Pz = copy.deepcopy(P0)\n",
    "        # print('12312312')\n",
    "    # print(4, P0[18, 1])\n",
    "    return Pz"
   ]
  },
  {
   "cell_type": "code",
   "execution_count": 8,
   "metadata": {
    "colab": {
     "base_uri": "https://localhost:8080/"
    },
    "id": "GSiwFS-f67Gb",
    "outputId": "6a18d089-2a54-4ba1-94d0-6e863e5e0aa7"
   },
   "outputs": [
    {
     "name": "stdout",
     "output_type": "stream",
     "text": [
      "Stationary distribution: [0.41304348 0.2826087  0.30434783]\n"
     ]
    }
   ],
   "source": [
    "import numpy as np\n",
    "\n",
    "\n",
    "def get_stat_dist(Pz):\n",
    "    # Calculate the eigenvalues and eigenvectors\n",
    "    eigenvalues, eigenvectors = np.linalg.eig(Pz.T)\n",
    "\n",
    "    # Find the index of the eigenvalue closest to 1\n",
    "    idx = np.argmin(np.abs(eigenvalues - 1))\n",
    "\n",
    "    # Get the corresponding eigenvector\n",
    "    stationary_dist = np.real(eigenvectors[:, idx])\n",
    "    stationary_dist /= np.sum(\n",
    "        stationary_dist\n",
    "    )  # Normalize to make it a probability distribution\n",
    "\n",
    "    return stationary_dist\n",
    "\n",
    "\n",
    "# Example usage\n",
    "P = np.array([[0.5, 0.4, 0.1], [0.3, 0.2, 0.5], [0.4, 0.2, 0.4]])\n",
    "stat_dist = get_stat_dist(P)\n",
    "print(\"Stationary distribution:\", stat_dist)"
   ]
  },
  {
   "cell_type": "code",
   "execution_count": 9,
   "metadata": {
    "id": "NnmR3fIb67yy"
   },
   "outputs": [],
   "source": [
    "def exact_otc1(Px, Py, c):\n",
    "    dx = Px.shape[0]\n",
    "    dy = Py.shape[0]\n",
    "\n",
    "    P_old = np.ones((dx * dy, dx * dy))\n",
    "    P = get_ind_tc(Px, Py)\n",
    "    iter_ctr = 0\n",
    "    while np.max(np.abs(P - P_old)) > 1e-10:\n",
    "        print(iter_ctr)\n",
    "        iter_ctr += 1\n",
    "        # P_old = P.copy()\n",
    "        P_old = np.copy(P)\n",
    "        # P_old = P\n",
    "\n",
    "        # Transition coupling evaluation.\n",
    "        g, h = exact_tce(P, c)\n",
    "\n",
    "        # Transition coupling improvement.\n",
    "        P = exact_tci(g, h, P_old, Px, Py)\n",
    "\n",
    "        # Check for convergence.\n",
    "        if np.all(P == P_old):\n",
    "            stat_dist = get_stat_dist(P)\n",
    "            # stat_dist = np.reshape(stat_dist, (dy, dx)).T\n",
    "            stat_dist = np.reshape(stat_dist, (dx, dy))\n",
    "            exp_cost = np.sum(stat_dist * c)\n",
    "            return iter_ctr, exp_cost, P, stat_dist\n",
    "\n",
    "    return None, None, None, None"
   ]
  },
  {
   "cell_type": "code",
   "execution_count": 10,
   "metadata": {
    "id": "WIuvLZlQ69uy"
   },
   "outputs": [],
   "source": [
    "def softmax_matrix(matrix):\n",
    "    # Apply softmax function row-wise\n",
    "    return np.apply_along_axis(softmax, axis=1, arr=matrix)\n",
    "\n",
    "\n",
    "def softmax(x):\n",
    "    return np.exp(x) / np.sum(np.exp(x))\n",
    "\n",
    "\n",
    "def adj_to_trans(A):\n",
    "    nrow = A.shape[0]\n",
    "    T = np.copy(A).astype(float)\n",
    "    for i in range(nrow):\n",
    "        row = A[i, :]\n",
    "        k = np.where(row != 0)[0]\n",
    "        vals = softmax(row[k])\n",
    "        for idx in range(len(k)):\n",
    "            T[i, k[idx]] = vals[idx]\n",
    "\n",
    "    return T"
   ]
  },
  {
   "cell_type": "code",
   "execution_count": 11,
   "metadata": {
    "id": "3wJaohoY6_PS"
   },
   "outputs": [],
   "source": [
    "def get_degree_cost(D1, D2):\n",
    "    d1 = D1.shape[0]\n",
    "    d2 = D2.shape[0]\n",
    "    degrees1 = np.sum(D1, axis=1)\n",
    "    degrees2 = np.sum(D2, axis=1)\n",
    "    cost_mat = np.zeros((d1, d2))\n",
    "    for i in range(d1):\n",
    "        for j in range(d2):\n",
    "            cost_mat[i, j] = (degrees1[i] - degrees2[j]) ** 2\n",
    "    return cost_mat"
   ]
  },
  {
   "cell_type": "code",
   "execution_count": 12,
   "metadata": {
    "id": "klzTqMrR7AoF"
   },
   "outputs": [],
   "source": [
    "A1 = np.zeros((10, 10))\n",
    "for i in range(9):\n",
    "    A1[i, i + 1] = 1\n",
    "    A1[i + 1, i] = 1\n",
    "A1[4, 9] = 1\n",
    "A1[9, 4] = 1\n",
    "A2 = np.zeros((18, 18))\n",
    "for i in range(17):\n",
    "    A2[i, i + 1] = 1\n",
    "    A2[i + 1, i] = 1\n",
    "A2[0, 5] = 1\n",
    "A2[5, 0] = 1\n",
    "A2[3, 6] = 1\n",
    "A2[6, 3] = 1\n",
    "A2[9, 11] = 1\n",
    "A2[11, 9] = 1\n",
    "A2[12, 17] = 1\n",
    "A2[17, 12] = 1\n",
    "A2[5, 6] = 0\n",
    "A2[6, 5] = 0\n",
    "A2[10, 11] = 0\n",
    "A2[11, 10] = 0\n",
    "A3 = np.zeros((15, 15))\n",
    "for i in range(14):\n",
    "    A3[i, i + 1] = 1\n",
    "    A3[i + 1, i] = 1\n",
    "A3[1, 3] = 1\n",
    "A3[3, 1] = 1\n",
    "A3[3, 14] = 1\n",
    "A3[14, 3] = 1\n",
    "A3[8, 13] = 1\n",
    "A3[13, 8] = 1\n",
    "A3[8, 14] = 1\n",
    "A3[14, 8] = 1\n",
    "A3[6, 8] = 1\n",
    "A3[8, 6] = 1\n",
    "A3[11, 13] = 1\n",
    "A3[13, 11] = 1\n",
    "A3[2, 3] = 0\n",
    "A3[3, 2] = 0\n",
    "A3[7, 8] = 0\n",
    "A3[8, 7] = 0\n",
    "A3[12, 13] = 0\n",
    "A3[13, 12] = 0\n",
    "P1 = adj_to_trans(A1)\n",
    "P2 = adj_to_trans(A2)\n",
    "P3 = adj_to_trans(A3)\n",
    "c12 = get_degree_cost(A1, A2)\n",
    "c13 = get_degree_cost(A1, A3)\n",
    "c23 = get_degree_cost(A2, A3)"
   ]
  },
  {
   "cell_type": "code",
   "execution_count": 13,
   "metadata": {
    "colab": {
     "base_uri": "https://localhost:8080/"
    },
    "id": "QaMJBTjT7CtQ",
    "outputId": "52a141a6-5ea5-48a4-f7b2-419e46587148"
   },
   "outputs": [
    {
     "name": "stdout",
     "output_type": "stream",
     "text": [
      "0\n",
      "1\n",
      "2\n",
      "3\n",
      "[[0.16323382]\n",
      " [0.        ]\n",
      " [0.        ]]\n",
      "4\n"
     ]
    }
   ],
   "source": [
    "result = np.zeros((3, 1))\n",
    "\n",
    "# Exact OTC\n",
    "# [result[0, 0], P12, stat_dist12] = exact_otc1(P1, P2, c1)\n",
    "# [result[0, 1], P13, stat_dist13] = exact_otc1(P1, P3, c1)\n",
    "[iter, result[0, 0], P12, stat_dist12] = exact_otc1(P1, P2, c12)\n",
    "# [result[1, 0], P13, stat_dist13] = exact_otc1(P1, P3, c13)\n",
    "# [result[2, 0], P23, stat_dist23] = exact_otc1(P2, P3, c23)\n",
    "print(result)\n",
    "print(iter)"
   ]
  },
  {
   "cell_type": "code",
   "execution_count": null,
   "metadata": {
    "id": "yFVrMfef7Kgy"
   },
   "outputs": [],
   "source": []
  }
 ],
 "metadata": {
  "colab": {
   "provenance": []
  },
  "kernelspec": {
   "display_name": "Python 3",
   "name": "python3"
  },
  "language_info": {
   "name": "python"
  }
 },
 "nbformat": 4,
 "nbformat_minor": 0
}