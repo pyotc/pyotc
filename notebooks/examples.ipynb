{
 "cells": [
  {
   "cell_type": "code",
   "execution_count": 1,
   "id": "d9cefd0e-21ec-408c-a64e-5bc424fb16b4",
   "metadata": {},
   "outputs": [
    {
     "name": "stdout",
     "output_type": "stream",
     "text": [
      "/projectnb/darpa/pyuning/Attribute graphs/NetOTC Application\n"
     ]
    }
   ],
   "source": [
    "cd /projectnb/darpa/pyuning/Attribute graphs/NetOTC Application"
   ]
  },
  {
   "cell_type": "code",
   "execution_count": 16,
   "id": "800e5f02-50b0-457b-840b-f6a8a9bda7df",
   "metadata": {},
   "outputs": [],
   "source": [
    "import sys\n",
    "sys.path.append('/projectnb/darpa/pyuning/Attribute graphs/NetOTC Application')\n",
    "\n",
    "import NetOTC_torch\n",
    "import utils\n",
    "import EntropicOTC as EOTC"
   ]
  },
  {
   "cell_type": "code",
   "execution_count": 17,
   "id": "ed927ee2-c115-42f5-b48e-851c1901c8fd",
   "metadata": {},
   "outputs": [
    {
     "data": {
      "text/html": [
       "<div>\n",
       "<style scoped>\n",
       "    .dataframe tbody tr th:only-of-type {\n",
       "        vertical-align: middle;\n",
       "    }\n",
       "\n",
       "    .dataframe tbody tr th {\n",
       "        vertical-align: top;\n",
       "    }\n",
       "\n",
       "    .dataframe thead th {\n",
       "        text-align: right;\n",
       "    }\n",
       "</style>\n",
       "<table border=\"1\" class=\"dataframe\">\n",
       "  <thead>\n",
       "    <tr style=\"text-align: right;\">\n",
       "      <th></th>\n",
       "      <th>COLOR</th>\n",
       "      <th>STRUCTURE</th>\n",
       "      <th>MOELCULE NAME ON OSSILA</th>\n",
       "      <th>SMILES</th>\n",
       "      <th>HOMO (eV)</th>\n",
       "      <th>LUMO (eV)</th>\n",
       "      <th>Lmax (emission) nm (Solvent)</th>\n",
       "    </tr>\n",
       "  </thead>\n",
       "  <tbody>\n",
       "    <tr>\n",
       "      <th>0</th>\n",
       "      <td>GREEN</td>\n",
       "      <td>NaN</td>\n",
       "      <td>TXO-PhCz</td>\n",
       "      <td>N#CC1=C(N2C3=CC=CC=C3C4=CC=CC=C42)C(N5C6=CC=CC...</td>\n",
       "      <td>-5.78</td>\n",
       "      <td>-3.58</td>\n",
       "      <td>522</td>\n",
       "    </tr>\n",
       "    <tr>\n",
       "      <th>1</th>\n",
       "      <td>GREEN</td>\n",
       "      <td>NaN</td>\n",
       "      <td>Px-VPN</td>\n",
       "      <td>N#CC1=C(C#N)C=C(C2=CC=C(N3C4=C(C=CC=C4)OC5=CC=...</td>\n",
       "      <td>-5.70</td>\n",
       "      <td>-3.30</td>\n",
       "      <td>577</td>\n",
       "    </tr>\n",
       "    <tr>\n",
       "      <th>2</th>\n",
       "      <td>GREEN</td>\n",
       "      <td>NaN</td>\n",
       "      <td>DPS-PXZ</td>\n",
       "      <td>O=S(C1=CC=C(N2C3=C(C=CC=C3)OC4=CC=CC=C24)C=C1)...</td>\n",
       "      <td>-5.59</td>\n",
       "      <td>-2.79</td>\n",
       "      <td>507</td>\n",
       "    </tr>\n",
       "    <tr>\n",
       "      <th>3</th>\n",
       "      <td>GREEN</td>\n",
       "      <td>NaN</td>\n",
       "      <td>4CzPN-Me</td>\n",
       "      <td>N#CC1=C(N2C3=C(C4=C2C=CC(C)=C4)C=C(C)C=C3)C(N5...</td>\n",
       "      <td>-5.80</td>\n",
       "      <td>-3.40</td>\n",
       "      <td>552</td>\n",
       "    </tr>\n",
       "    <tr>\n",
       "      <th>4</th>\n",
       "      <td>GREEN</td>\n",
       "      <td>NaN</td>\n",
       "      <td>PXZ-TRZ</td>\n",
       "      <td>C12=CC=CC=C1N(C3=CC=C(C4=NC(C5=CC=CC=C5)=NC(C6...</td>\n",
       "      <td>-5.50</td>\n",
       "      <td>-3.10</td>\n",
       "      <td>545</td>\n",
       "    </tr>\n",
       "  </tbody>\n",
       "</table>\n",
       "</div>"
      ],
      "text/plain": [
       "   COLOR  STRUCTURE MOELCULE NAME ON OSSILA  \\\n",
       "0  GREEN        NaN                TXO-PhCz   \n",
       "1  GREEN        NaN                  Px-VPN   \n",
       "2  GREEN        NaN                 DPS-PXZ   \n",
       "3  GREEN        NaN                4CzPN-Me   \n",
       "4  GREEN        NaN                 PXZ-TRZ   \n",
       "\n",
       "                                              SMILES  HOMO (eV)  LUMO (eV)  \\\n",
       "0  N#CC1=C(N2C3=CC=CC=C3C4=CC=CC=C42)C(N5C6=CC=CC...      -5.78      -3.58   \n",
       "1  N#CC1=C(C#N)C=C(C2=CC=C(N3C4=C(C=CC=C4)OC5=CC=...      -5.70      -3.30   \n",
       "2  O=S(C1=CC=C(N2C3=C(C=CC=C3)OC4=CC=CC=C24)C=C1)...      -5.59      -2.79   \n",
       "3  N#CC1=C(N2C3=C(C4=C2C=CC(C)=C4)C=C(C)C=C3)C(N5...      -5.80      -3.40   \n",
       "4  C12=CC=CC=C1N(C3=CC=C(C4=NC(C5=CC=CC=C5)=NC(C6...      -5.50      -3.10   \n",
       "\n",
       "   Lmax (emission) nm (Solvent)  \n",
       "0                           522  \n",
       "1                           577  \n",
       "2                           507  \n",
       "3                           552  \n",
       "4                           545  "
      ]
     },
     "execution_count": 17,
     "metadata": {},
     "output_type": "execute_result"
    }
   ],
   "source": [
    "import pandas as pd\n",
    "import numpy as np\n",
    "import time\n",
    "\n",
    "df = pd.read_excel('NetOTCDistance.xlsx')\n",
    "df.head()"
   ]
  },
  {
   "cell_type": "code",
   "execution_count": 18,
   "id": "8f838e9b-f6e0-4c65-9fdd-86ca57a8df7c",
   "metadata": {},
   "outputs": [],
   "source": [
    "import rdkit\n",
    "from rdkit.Chem import rdchem\n",
    "from rdkit import Chem\n",
    "from ogb.utils.features import (allowable_features, atom_to_feature_vector, bond_to_feature_vector, atom_feature_vector_to_dict, bond_feature_vector_to_dict) "
   ]
  },
  {
   "cell_type": "code",
   "execution_count": 19,
   "id": "c4a3a65b-9384-4f67-9da0-c61041d985a9",
   "metadata": {},
   "outputs": [],
   "source": [
    "def rdkit_feat(atom):\n",
    "\n",
    "    prop = []\n",
    "    nb = [a.GetSymbol() for a in atom.GetNeighbors()] # neighbor atom type symbols\n",
    "    nb_h = sum([_ == 'H' for _ in nb]) # number of hydrogen as neighbor\n",
    "    nb_o = sum([_ == 'O' for _ in nb]) # number of oxygen as neighbor\n",
    "    nb_c = sum([_ == 'C' for _ in nb]) # number of carbon as neighbor\n",
    "    nb_n = sum([_ == 'N' for _ in nb]) # number of nitrogen as neighbor\n",
    "    nb_na = len(nb) - nb_h - nb_o - nb_n - nb_c\n",
    "    prop.append(atom.GetAtomicNum())\n",
    "    prop.append(str(atom.GetHybridization()))\n",
    "    prop.append(atom.IsInRing())\n",
    "    prop.append(atom.GetTotalDegree())\n",
    "    prop.append(atom.GetFormalCharge())\n",
    "    prop.append(atom.GetNumRadicalElectrons())\n",
    "    prop.append(atom.GetIsAromatic())\n",
    "    prop.append(nb_o)\n",
    "    prop.append(nb_c)\n",
    "    prop.append(nb_n)\n",
    "    return prop\n",
    "\n",
    "def feat_vec(smiles_string):\n",
    "\n",
    "    mol = Chem.MolFromSmiles(smiles_string)\n",
    "    atom_features_list = []\n",
    "    for atom in mol.GetAtoms():\n",
    "        #atom_to_feature_vector(atom)  # will extract 9 different atomic properties\n",
    "        atom_features_list.append(rdkit_feat(atom))\n",
    "    \n",
    "    x = np.array(atom_features_list)\n",
    "    df = pd.DataFrame(x, columns = ['AtomicNum','Hybridization','ring','TotalDegree','FormalCharge','NumRadicalElectrons','Aromatic','NumO','NumC','NumN'])\n",
    "    #x = np.array(atom_features_list, dtype = np.int64)\n",
    "    return df"
   ]
  },
  {
   "cell_type": "code",
   "execution_count": 20,
   "id": "d0f88351-9cd3-435d-b48f-823657c773db",
   "metadata": {},
   "outputs": [],
   "source": [
    "smiles_list = df['SMILES']\n",
    "mol_list = [Chem.MolFromSmiles(smiles) for smiles in smiles_list]\n",
    "A_list = [Chem.GetAdjacencyMatrix(mol,useBO = True) for mol in mol_list]\n",
    "P_list = [utils.adj_to_trans1(A) for A in A_list]\n",
    "P_list2 = [utils.adj_to_trans2(A) for A in A_list]"
   ]
  },
  {
   "cell_type": "code",
   "execution_count": 21,
   "id": "922ab242-8180-453c-b925-9348f04d180a",
   "metadata": {},
   "outputs": [
    {
     "name": "stdout",
     "output_type": "stream",
     "text": [
      "62\n",
      "50\n",
      "43\n",
      "70\n",
      "38\n",
      "54\n",
      "54\n",
      "36\n",
      "110\n",
      "60\n",
      "50\n",
      "47\n",
      "113\n",
      "50\n"
     ]
    }
   ],
   "source": [
    "for x in P_list:\n",
    "    print(x.shape[0])"
   ]
  },
  {
   "cell_type": "code",
   "execution_count": 22,
   "id": "82cb3b9b-cfbb-4f69-af0f-f32d9f5df958",
   "metadata": {},
   "outputs": [],
   "source": [
    "AN_list = [feat_vec(smiles)['AtomicNum'] for smiles in smiles_list]\n",
    "Hybrid_list = [feat_vec(smiles)['Hybridization'] for smiles in smiles_list]\n",
    "ring_list = [feat_vec(smiles)['ring'] for smiles in smiles_list]\n",
    "aroma_list = [feat_vec(smiles)['Aromatic'] for smiles in smiles_list]"
   ]
  },
  {
   "cell_type": "markdown",
   "id": "bb21f1ac",
   "metadata": {},
   "source": [
    "# This is the first example. Two networks with 62 and 70 nodes."
   ]
  },
  {
   "cell_type": "code",
   "execution_count": 23,
   "id": "75bf158f-0968-441f-b8ac-69c4d001ef80",
   "metadata": {},
   "outputs": [
    {
     "name": "stdout",
     "output_type": "stream",
     "text": [
      "62 70\n"
     ]
    }
   ],
   "source": [
    "i, j = 0, 3\n",
    "P1, P2 = P_list[i], P_list[j]\n",
    "print(P1.shape[0],P2.shape[0])\n",
    "lst = aroma_list\n",
    "cost = utils.get_01_cost(lst[i], lst[j])"
   ]
  },
  {
   "cell_type": "markdown",
   "id": "b38f5c2a",
   "metadata": {},
   "source": [
    "## This is the original exactOTC algorithm. Takes 482 seconds."
   ]
  },
  {
   "cell_type": "code",
   "execution_count": 17,
   "id": "887f2fca-5b03-4e19-8a33-0b0a6c15aee1",
   "metadata": {
    "scrolled": true
   },
   "outputs": [
    {
     "name": "stdout",
     "output_type": "stream",
     "text": [
      "0.08091488932927283\n",
      "482.6685380935669\n"
     ]
    }
   ],
   "source": [
    "start_time = time.time()\n",
    "[result1, Px, stat_dist1] = NetOTC.exact_otc_lp(P1, P2, cost)\n",
    "now = time.time()\n",
    "print(result1)\n",
    "print(now-start_time)"
   ]
  },
  {
   "cell_type": "markdown",
   "id": "b3b2606f",
   "metadata": {},
   "source": [
    "## This is exactOTC with emd function from POT. Takes 92 seconds."
   ]
  },
  {
   "cell_type": "code",
   "execution_count": 10,
   "id": "c852519d-343f-4608-bfac-62334186fd40",
   "metadata": {},
   "outputs": [
    {
     "name": "stdout",
     "output_type": "stream",
     "text": [
      "0.0809148893292851\n",
      "92.50548076629639\n"
     ]
    }
   ],
   "source": [
    "start_time = time.time()\n",
    "[result2, Py, stat_dist2] = NetOTC.exact_otc(P1, P2, cost)\n",
    "now = time.time()\n",
    "print(result2)\n",
    "print(now-start_time)"
   ]
  },
  {
   "cell_type": "markdown",
   "id": "7e8fbc73",
   "metadata": {},
   "source": [
    "## This is original entropicOTC, takes 19 seconds."
   ]
  },
  {
   "cell_type": "code",
   "execution_count": 24,
   "id": "9e897ffe-bcfe-4b13-81e8-5a304f20279d",
   "metadata": {},
   "outputs": [
    {
     "name": "stdout",
     "output_type": "stream",
     "text": [
      "0.2428947954512574\n",
      "19.092622756958008\n"
     ]
    }
   ],
   "source": [
    "start_time = time.time()\n",
    "[result_e1, P_e1, stat_dist_e1] = EOTC.entropic_otc(P1, P2, cost, sink_iter = 20, get_sd = False)\n",
    "now = time.time()\n",
    "print(result_e1)\n",
    "print(now-start_time)"
   ]
  },
  {
   "cell_type": "markdown",
   "id": "9a196780",
   "metadata": {},
   "source": [
    "## This is entropicOTC with sinkhorn function from POT, will take a little bit longer. But it has more arguments in the function, e.g. regularization, and we also got a slightly larger distance indicating that the optimization is not as good as the original one."
   ]
  },
  {
   "cell_type": "code",
   "execution_count": 26,
   "id": "de040215-073d-4493-af55-4f893ec8caf8",
   "metadata": {},
   "outputs": [
    {
     "name": "stdout",
     "output_type": "stream",
     "text": [
      "0.243070560335461\n",
      "19.353610277175903\n"
     ]
    }
   ],
   "source": [
    "start_time = time.time()\n",
    "[result_e2, P_e2, stat_dist_e2] = EOTC.entropic_otc1(P1, P2, cost, reg_num = 0.1, sink_iter = 20, get_sd = False)\n",
    "now = time.time()\n",
    "print(result_e2)\n",
    "print(now-start_time)"
   ]
  },
  {
   "cell_type": "markdown",
   "id": "eecc9f36",
   "metadata": {},
   "source": [
    "# This is the second example, two networks with 110 and 113 nodes."
   ]
  },
  {
   "cell_type": "code",
   "execution_count": 27,
   "id": "28651c5e-d3f1-4e3e-9801-3039fd7127cc",
   "metadata": {},
   "outputs": [
    {
     "name": "stdout",
     "output_type": "stream",
     "text": [
      "110 113\n"
     ]
    }
   ],
   "source": [
    "i, j = 8, 12\n",
    "P1, P2 = P_list[i], P_list[j]\n",
    "print(P1.shape[0],P2.shape[0])\n",
    "lst = aroma_list\n",
    "cost = utils.get_01_cost(lst[i], lst[j])"
   ]
  },
  {
   "cell_type": "markdown",
   "id": "03b65724",
   "metadata": {},
   "source": [
    "## Original exactOTC algorithm."
   ]
  },
  {
   "cell_type": "code",
   "execution_count": 12,
   "id": "89c73d0c-2609-4ebe-8574-ebb744616101",
   "metadata": {},
   "outputs": [
    {
     "name": "stdout",
     "output_type": "stream",
     "text": [
      "0.20467463121546883\n",
      "9304.753986597061\n"
     ]
    }
   ],
   "source": [
    "start_time = time.time()\n",
    "[result1, Px, stat_dist1] = NetOTC.exact_otc(P1, P2, cost)\n",
    "now = time.time()\n",
    "print(result1)\n",
    "print(now-start_time)"
   ]
  },
  {
   "cell_type": "markdown",
   "id": "baf140f2",
   "metadata": {},
   "source": [
    "## exactOTC with emd from POT."
   ]
  },
  {
   "cell_type": "code",
   "execution_count": 13,
   "id": "b04ffd07-c862-4ece-ad79-2d6d3aa998fe",
   "metadata": {},
   "outputs": [
    {
     "name": "stdout",
     "output_type": "stream",
     "text": [
      "0.20467463077813536\n",
      "5506.978949308395\n"
     ]
    }
   ],
   "source": [
    "start_time = time.time()\n",
    "[result2, Py, stat_dist2] = NetOTC.exact_otc_ot(P1, P2, cost)\n",
    "now = time.time()\n",
    "print(result2)\n",
    "print(now-start_time)"
   ]
  },
  {
   "cell_type": "markdown",
   "id": "afcda28e",
   "metadata": {},
   "source": [
    "## Original entropicOTC."
   ]
  },
  {
   "cell_type": "code",
   "execution_count": 33,
   "id": "a47b35e5-9df5-4952-bdee-192022097687",
   "metadata": {},
   "outputs": [
    {
     "name": "stdout",
     "output_type": "stream",
     "text": [
      "0.5076235337328329\n",
      "151.5682475566864\n"
     ]
    }
   ],
   "source": [
    "start_time = time.time()\n",
    "[result_e1, P_e1, stat_dist_e1] = EOTC.entropic_otc(P1, P2, cost, sink_iter = 10, get_sd = False)\n",
    "now = time.time()\n",
    "print(result_e1)\n",
    "print(now-start_time)"
   ]
  },
  {
   "cell_type": "markdown",
   "id": "a399d7cd",
   "metadata": {},
   "source": [
    "## entropicOTC with sinkhorn from POT."
   ]
  },
  {
   "cell_type": "code",
   "execution_count": 32,
   "id": "e7bb92bc-6254-42db-9977-497031ef9c56",
   "metadata": {},
   "outputs": [
    {
     "name": "stdout",
     "output_type": "stream",
     "text": [
      "0.5079334918995498\n",
      "150.21376729011536\n"
     ]
    }
   ],
   "source": [
    "start_time = time.time()\n",
    "[result_e2, P_e2, stat_dist_e2] = EOTC.entropic_otc1(P1, P2, cost, reg_num = 0.1, sink_iter = 20, get_sd = False)\n",
    "now = time.time()\n",
    "print(result_e2)\n",
    "print(now-start_time)"
   ]
  },
  {
   "cell_type": "code",
   "execution_count": null,
   "id": "8f48a0c7-4a6b-4f02-905c-aa629eeaec9e",
   "metadata": {},
   "outputs": [],
   "source": []
  }
 ],
 "metadata": {
  "kernelspec": {
   "display_name": "Python 3 (ipykernel)",
   "language": "python",
   "name": "python3"
  },
  "language_info": {
   "codemirror_mode": {
    "name": "ipython",
    "version": 3
   },
   "file_extension": ".py",
   "mimetype": "text/x-python",
   "name": "python",
   "nbconvert_exporter": "python",
   "pygments_lexer": "ipython3",
   "version": "3.11.4"
  }
 },
 "nbformat": 4,
 "nbformat_minor": 5
}
