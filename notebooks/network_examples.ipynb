{
 "cells": [
  {
   "cell_type": "code",
   "execution_count": 4,
   "metadata": {},
   "outputs": [],
   "source": [
    "from pyotc.examples.lollipops import lollipop_1, lollipop_2\n",
    "\n",
    "# TODO: plot lollipop_1, lollipop_2"
   ]
  },
  {
   "cell_type": "code",
   "execution_count": 3,
   "metadata": {},
   "outputs": [],
   "source": [
    "from pyotc.examples.edge_awareness import graph_1\n",
    "\n",
    "# TODO: plot graph_1, graph_2, graph_3"
   ]
  },
  {
   "cell_type": "code",
   "execution_count": 5,
   "metadata": {},
   "outputs": [],
   "source": [
    "from pyotc.examples.stochastic_block_model import sbm_1, sbm_2, sbm_3\n",
    "\n",
    "# TODO: plot sbm_1, sbm_2, sbm_3"
   ]
  },
  {
   "cell_type": "code",
   "execution_count": 6,
   "metadata": {},
   "outputs": [],
   "source": [
    "from pyotc.examples.wheel import wheel_1, wheel_2, wheel_3\n",
    "\n",
    "# TODO: plot sbm_1, sbm_2, sbm_3"
   ]
  },
  {
   "cell_type": "code",
   "execution_count": null,
   "metadata": {},
   "outputs": [],
   "source": []
  }
 ],
 "metadata": {
  "kernelspec": {
   "display_name": "pyotc",
   "language": "python",
   "name": "python3"
  },
  "language_info": {
   "codemirror_mode": {
    "name": "ipython",
    "version": 3
   },
   "file_extension": ".py",
   "mimetype": "text/x-python",
   "name": "python",
   "nbconvert_exporter": "python",
   "pygments_lexer": "ipython3",
   "version": "3.10.14"
  }
 },
 "nbformat": 4,
 "nbformat_minor": 2
}
