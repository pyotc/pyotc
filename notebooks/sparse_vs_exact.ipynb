{
 "cells": [
  {
   "cell_type": "code",
   "execution_count": 1,
   "id": "c755198f",
   "metadata": {},
   "outputs": [
    {
     "name": "stderr",
     "output_type": "stream",
     "text": [
      "/Users/bongsooyi/opt/anaconda3/envs/pyotc2/lib/python3.10/site-packages/scikits/__init__.py:1: UserWarning: pkg_resources is deprecated as an API. See https://setuptools.pypa.io/en/latest/pkg_resources.html. The pkg_resources package is slated for removal as early as 2025-11-30. Refrain from using this package or pin to Setuptools<81.\n",
      "  __import__('pkg_resources').declare_namespace(__name__)\n"
     ]
    }
   ],
   "source": [
    "import numpy as np\n",
    "import time\n",
    "import sys\n",
    "import os\n",
    "from scipy.optimize import linprog \n",
    "#from exact_otc import exact_otc\n",
    "\n",
    "sys.path.append(os.path.abspath(\"../src\"))\n",
    "from pyotc.otc_backend.graph.utils import adj_to_trans, get_degree_cost\n",
    "from pyotc.examples.stochastic_block_model import stochastic_block_model"
   ]
  },
  {
   "cell_type": "code",
   "execution_count": 2,
   "id": "20aa0235",
   "metadata": {},
   "outputs": [],
   "source": [
    "import numpy as np\n",
    "from numpy.linalg import pinv\n",
    "from scipy.optimize import linprog\n",
    "import copy\n",
    "import ot\n",
    "\n",
    "\n",
    "def get_ind_tc(Px, Py):\n",
    "    dx, dx_col = Px.shape\n",
    "    dy, dy_col = Py.shape\n",
    "\n",
    "    P_ind = np.zeros((dx*dy, dx_col*dy_col))\n",
    "    for x_row in range(dx):\n",
    "        for x_col in range(dx_col):\n",
    "            for y_row in range(dy):\n",
    "                for y_col in range(dy_col):\n",
    "                    idx1 = dy*(x_row) + y_row\n",
    "                    idx2 = dy*(x_col) + y_col\n",
    "                    P_ind[idx1, idx2] = Px[x_row, x_col] * Py[y_row, y_col]\n",
    "    return P_ind\n",
    "\n",
    "\n",
    "def exact_tce(Pz, c):\n",
    "    d = Pz.shape[0]\n",
    "    c = np.reshape(c, (d, -1))\n",
    "    A = np.block([[np.eye(d) - Pz, np.zeros((d, d)), np.zeros((d, d))],\n",
    "                  [np.eye(d), np.eye(d) - Pz, np.zeros((d, d))],\n",
    "                  [np.zeros((d, d)), np.eye(d), np.eye(d) - Pz]])\n",
    "    b = np.concatenate([np.zeros((d, 1)), c, np.zeros((d, 1))])\n",
    "    try:\n",
    "        sol = np.linalg.solve(A, b)\n",
    "    #except np.linalg.LinAlgError:\n",
    "    except:\n",
    "        sol = np.matmul(pinv(A), b)\n",
    "\n",
    "    g = sol[0:d].flatten()\n",
    "    h = sol[d:2*d].flatten()\n",
    "    return g, h\n",
    "\n",
    "\n",
    "def computeot_pot(C, r, c):\n",
    "    # Ensure r and c are numpy arrays\n",
    "    r = np.array(r).flatten()\n",
    "    c = np.array(c).flatten()\n",
    "\n",
    "    # Compute the optimal transport plan and the cost using the ot.emd function\n",
    "    lp_sol = ot.emd(r, c, C)\n",
    "    lp_val = np.sum(lp_sol * C)\n",
    "\n",
    "    return lp_sol, lp_val\n",
    "\n",
    "\n",
    "def check_constant(f, threshold=1e-3):  \n",
    "    d = f.shape[0]\n",
    "    f_const = True\n",
    "    for i in range(d):\n",
    "        for j in range(i + 1, d):\n",
    "            if abs(f[i] - f[j]) > threshold:\n",
    "                f_const = False\n",
    "                break\n",
    "        if not f_const:\n",
    "            break\n",
    "    return f_const\n",
    "\n",
    "\n",
    "def setup_ot(f, Px, Py, Pz):   \n",
    "    dx = Px.shape[0]\n",
    "    dy = Py.shape[0]\n",
    "    f_mat = np.reshape(f, (dx, dy))\n",
    "    for x_row in range(dx):\n",
    "        for y_row in range(dy):\n",
    "            dist_x = Px[x_row, :]\n",
    "            dist_y = Py[y_row, :]\n",
    "            # Check if either distribution is degenerate.\n",
    "            if any(dist_x == 1) or any(dist_y == 1):\n",
    "                sol = np.outer(dist_x, dist_y)\n",
    "            # If not degenerate, proceed with OT.\n",
    "            else:\n",
    "                sol, val = computeot_pot(f_mat, dist_x, dist_y)\n",
    "            idx = dy * (x_row) + y_row\n",
    "            Pz[idx, :] = np.reshape(sol, (-1, dx * dy))\n",
    "    return Pz\n",
    "\n",
    "\n",
    "def exact_tci(g, h, P0, Px, Py):\n",
    "    # Check if g is constant.\n",
    "    dx = Px.shape[0]\n",
    "    dy = Py.shape[0]\n",
    "    Pz = np.zeros((dx * dy, dx * dy))\n",
    "    g_const = check_constant(f=g)\n",
    "    \n",
    "    # If g is not constant, improve transition coupling against g.\n",
    "    if not g_const:\n",
    "        Pz = setup_ot(f=g, Px=Px, Py=Py, Pz=Pz)\n",
    "        if np.max(np.abs(np.matmul(P0, g) - np.matmul(Pz, g))) <= 1e-7:\n",
    "            Pz = copy.deepcopy(P0)\n",
    "        else:\n",
    "            return Pz\n",
    "        \n",
    "    # Try to improve with respect to h.\n",
    "    Pz = setup_ot(f=h, Px=Px, Py=Py, Pz=Pz)\n",
    "    if np.max(np.abs(np.matmul(P0, h) - np.matmul(Pz, h))) <= 1e-4:\n",
    "        Pz = copy.deepcopy(P0)\n",
    "        \n",
    "    return Pz\n",
    "\n",
    "# def exact_tci(g, h, P0, Px, Py):\n",
    "#     dx = Px.shape[0]\n",
    "#     dy = Py.shape[0]\n",
    "#     Pz = np.zeros((dx*dy, dx*dy))\n",
    "    \n",
    "#     g_const = True\n",
    "#     for i in range(dx):\n",
    "#         for j in range(i+1, dx):\n",
    "#             if abs(g[i] - g[j]) > 1e-3:\n",
    "#                 g_const = False\n",
    "#                 break\n",
    "#         if not g_const:\n",
    "#             break\n",
    "#     # If g is not constant, improve transition coupling against g.\n",
    "#     if not g_const:\n",
    "#         g_mat = np.reshape(g, (dx, dy))\n",
    "#         for x_row in range(dx):\n",
    "#             for y_row in range(dy):\n",
    "#                 dist_x = Px[x_row, :]\n",
    "#                 dist_y = Py[y_row, :]\n",
    "#                 # Check if either distribution is degenerate.\n",
    "#                 if any(dist_x == 1) or any(dist_y == 1):\n",
    "#                     sol = np.outer(dist_x, dist_y)\n",
    "#                 # If not degenerate, proceed with OT.\n",
    "#                 else:\n",
    "#                     sol, val = computeot_pot(g_mat, dist_x, dist_y)\n",
    "#                 idx = dy*(x_row)+y_row\n",
    "#                 Pz[idx, :] = np.reshape(sol, (-1, dx*dy))\n",
    "#                 #P[idx, :] = sol\n",
    "#         if np.max(np.abs(np.matmul(P0, g) - np.matmul(Pz, g))) <= 1e-7:\n",
    "#             Pz = copy.deepcopy(P0)\n",
    "#         else:\n",
    "#             return Pz\n",
    "#     ## Try to improve with respect to h.\n",
    "#     h_mat = np.reshape(h, (dx, dy))\n",
    "#     for x_row in range(dx):\n",
    "#         for y_row in range(dy):\n",
    "#             dist_x = Px[x_row, :]\n",
    "#             dist_y = Py[y_row, :]\n",
    "#             # Check if either distribution is degenerate.\n",
    "#             if any(dist_x == 1) or any(dist_y == 1):\n",
    "#                 sol = np.outer(dist_x, dist_y)\n",
    "#             # If not degenerate, proceed with OT.\n",
    "#             else:\n",
    "#                 sol, val = computeot_pot(h_mat, dist_x, dist_y)\n",
    "#             idx = dy*(x_row)+y_row\n",
    "#             # print(x_row, y_row, P0[18, 1])\n",
    "#             Pz[idx, :] = np.reshape(sol, (-1, dx*dy))\n",
    "\n",
    "#     if np.max(np.abs(np.matmul(P0, h) - np.matmul(Pz, h))) <= 1e-4:\n",
    "#         Pz = copy.deepcopy(P0)\n",
    "#     return Pz\n",
    "\n",
    "\n",
    "def get_best_stat_dist(P, c):\n",
    "    # Set up constraints.\n",
    "    n = P.shape[0]\n",
    "    c = np.reshape(c, (n, -1))\n",
    "    Aeq = np.concatenate((P.T - np.eye(n), np.ones((1, n))), axis = 0)\n",
    "    beq = np.concatenate((np.zeros((n, 1)), 1), axis = None)\n",
    "    beq = beq.reshape(-1,1)\n",
    "    bound = [[0, None]] * n\n",
    "    \n",
    "    # Solve linear program.\n",
    "    res = linprog(c, A_eq=Aeq, b_eq=beq, bounds=bound)\n",
    "    stat_dist = res.x\n",
    "    exp_cost = res.fun\n",
    "    \n",
    "    return stat_dist, exp_cost\n",
    "\n",
    "\n",
    "def exact_otc(Px, Py, c):\n",
    "    dx = Px.shape[0]\n",
    "    dy = Py.shape[0]\n",
    "\n",
    "    P_old = np.ones((dx*dy, dx*dy))\n",
    "    P = get_ind_tc(Px, Py)\n",
    "    iter_ctr = 0\n",
    "    while np.max(np.abs(P-P_old)) > 1e-10:\n",
    "        print(np.max(np.abs(P-P_old)))\n",
    "        print(f\"Iteration {iter_ctr}\")\n",
    "        iter_ctr += 1\n",
    "        P_old = np.copy(P)\n",
    "\n",
    "        # Transition coupling evaluation.\n",
    "        g, h = exact_tce(P, c)\n",
    "\n",
    "        # Transition coupling improvement.\n",
    "        P = exact_tci(g, h, P_old, Px, Py)\n",
    "\n",
    "        # Check for convergence.\n",
    "        if np.all(P == P_old):\n",
    "            stat_dist, exp_cost = get_best_stat_dist(P,c)\n",
    "            stat_dist = np.reshape(stat_dist, (dx, dy))\n",
    "            return exp_cost, P, stat_dist\n",
    "\n",
    "    return None, None, None"
   ]
  },
  {
   "cell_type": "code",
   "execution_count": 3,
   "id": "e4955149",
   "metadata": {},
   "outputs": [],
   "source": [
    "# Seed number\n",
    "np.random.seed(1004)"
   ]
  },
  {
   "cell_type": "code",
   "execution_count": 4,
   "id": "ea061267",
   "metadata": {},
   "outputs": [
    {
     "name": "stdout",
     "output_type": "stream",
     "text": [
      "1.0\n",
      "Iteration 0\n",
      "0.109375\n",
      "Iteration 1\n",
      "0.125\n",
      "Iteration 2\n",
      "0.125\n",
      "Iteration 3\n",
      "0.1111111111111111\n",
      "Iteration 4\n",
      "0.710306974693498 26.720885038375854\n"
     ]
    }
   ],
   "source": [
    "m = 10\n",
    "A1 = stochastic_block_model(\n",
    "    (m, m, m, m),\n",
    "    np.array(\n",
    "        [\n",
    "            [0.9, 0.1, 0.1, 0.1],\n",
    "            [0.1, 0.9, 0.1, 0.1],\n",
    "            [0.1, 0.1, 0.9, 0.1],\n",
    "            [0.1, 0.1, 0.1, 0.9],\n",
    "        ]\n",
    "    ),\n",
    ")\n",
    "A2 = stochastic_block_model(\n",
    "    (m, m, m, m),\n",
    "    np.array(\n",
    "        [\n",
    "            [0.9, 0.1, 0.1, 0.1],\n",
    "            [0.1, 0.9, 0.1, 0.1],\n",
    "            [0.1, 0.1, 0.9, 0.1],\n",
    "            [0.1, 0.1, 0.1, 0.9],\n",
    "        ]\n",
    "    ),\n",
    ")\n",
    "P1 = adj_to_trans(A1)\n",
    "P2 = adj_to_trans(A2)\n",
    "c = get_degree_cost(A1, A2)\n",
    "\n",
    "start = time.time()\n",
    "exp_cost, otc, stat_dist = exact_otc(P1, P2, c)\n",
    "end = time.time()\n",
    "print(exp_cost, end - start)"
   ]
  },
  {
   "cell_type": "code",
   "execution_count": 5,
   "id": "9be855cf",
   "metadata": {},
   "outputs": [
    {
     "data": {
      "text/plain": [
       "0.109375"
      ]
     },
     "execution_count": 5,
     "metadata": {},
     "output_type": "execute_result"
    }
   ],
   "source": [
    "Px = P1\n",
    "Py = P2\n",
    "c = get_degree_cost(A1, A2)\n",
    "dx = Px.shape[0]\n",
    "dy = Py.shape[0]\n",
    "\n",
    "P_old = np.ones((dx*dy, dx*dy))\n",
    "P = get_ind_tc(Px, Py)\n",
    "P_old = np.copy(P)\n",
    "\n",
    "# Transition coupling evaluation.\n",
    "g, h = exact_tce(P, c)\n",
    "P = exact_tci(g, h, P_old, Px, Py)\n",
    "np.max(np.abs(P-P_old))"
   ]
  },
  {
   "cell_type": "code",
   "execution_count": 6,
   "id": "f4565855",
   "metadata": {},
   "outputs": [
    {
     "data": {
      "text/plain": [
       "array([5.34900015, 5.34900015, 5.34900015, ..., 5.34900015, 5.34900015,\n",
       "       5.34900015])"
      ]
     },
     "execution_count": 6,
     "metadata": {},
     "output_type": "execute_result"
    }
   ],
   "source": [
    "g"
   ]
  },
  {
   "cell_type": "code",
   "execution_count": 7,
   "id": "106fbc16",
   "metadata": {},
   "outputs": [
    {
     "data": {
      "text/plain": [
       "array([ 9.54509398,  0.1623038 , -2.80030919, ..., -5.30228197,\n",
       "       -4.62557099, -1.71031044])"
      ]
     },
     "execution_count": 7,
     "metadata": {},
     "output_type": "execute_result"
    }
   ],
   "source": [
    "h"
   ]
  },
  {
   "cell_type": "code",
   "execution_count": 8,
   "id": "84f7b2a8",
   "metadata": {},
   "outputs": [
    {
     "data": {
      "text/plain": [
       "array([0.        , 0.        , 0.        , 0.        , 0.        ,\n",
       "       0.        , 0.        , 0.        , 0.        , 0.        ,\n",
       "       0.        , 0.        , 0.08333333, 0.        , 0.        ,\n",
       "       0.        , 0.        , 0.        , 0.        , 0.        ,\n",
       "       0.        , 0.        , 0.        , 0.        , 0.        ,\n",
       "       0.        , 0.        , 0.        , 0.        , 0.        ,\n",
       "       0.        , 0.        , 0.        , 0.        , 0.        ,\n",
       "       0.        , 0.        , 0.        , 0.        , 0.        ,\n",
       "       0.        , 0.        , 0.        , 0.        , 0.        ,\n",
       "       0.        , 0.        , 0.        , 0.        , 0.        ,\n",
       "       0.        , 0.        , 0.        , 0.        , 0.        ,\n",
       "       0.        , 0.        , 0.        , 0.        , 0.        ,\n",
       "       0.        , 0.        , 0.        , 0.        , 0.        ,\n",
       "       0.        , 0.        , 0.        , 0.        , 0.        ,\n",
       "       0.        , 0.        , 0.        , 0.        , 0.        ,\n",
       "       0.        , 0.        , 0.        , 0.        , 0.        ,\n",
       "       0.        , 0.        , 0.        , 0.        , 0.        ,\n",
       "       0.        , 0.        , 0.        , 0.        , 0.        ,\n",
       "       0.        , 0.02777778, 0.02777778, 0.        , 0.        ,\n",
       "       0.        , 0.        , 0.        , 0.        , 0.02777778,\n",
       "       0.        , 0.        , 0.        , 0.        , 0.        ,\n",
       "       0.        , 0.        , 0.        , 0.        , 0.        ,\n",
       "       0.        , 0.        , 0.        , 0.        , 0.        ,\n",
       "       0.        , 0.        , 0.        , 0.        , 0.        ,\n",
       "       0.        , 0.        , 0.        , 0.        , 0.        ,\n",
       "       0.        , 0.        , 0.        , 0.        , 0.        ,\n",
       "       0.        , 0.08333333, 0.        , 0.        , 0.        ,\n",
       "       0.        , 0.        , 0.        , 0.        , 0.        ,\n",
       "       0.        , 0.        , 0.        , 0.        , 0.        ,\n",
       "       0.        , 0.        , 0.        , 0.        , 0.        ,\n",
       "       0.        , 0.        , 0.        , 0.        , 0.        ,\n",
       "       0.        , 0.        , 0.        , 0.        , 0.        ,\n",
       "       0.        , 0.        , 0.        , 0.        , 0.        ,\n",
       "       0.        , 0.        , 0.        , 0.        , 0.        ,\n",
       "       0.        , 0.        , 0.        , 0.        , 0.        ,\n",
       "       0.08333333, 0.        , 0.        , 0.        , 0.        ,\n",
       "       0.        , 0.        , 0.        , 0.        , 0.        ,\n",
       "       0.        , 0.        , 0.        , 0.        , 0.        ,\n",
       "       0.        , 0.        , 0.        , 0.        , 0.        ,\n",
       "       0.        , 0.        , 0.        , 0.        , 0.        ])"
      ]
     },
     "execution_count": 8,
     "metadata": {},
     "output_type": "execute_result"
    }
   ],
   "source": [
    "P[10][200:400]"
   ]
  },
  {
   "cell_type": "code",
   "execution_count": 31,
   "id": "96798058",
   "metadata": {},
   "outputs": [
    {
     "data": {
      "text/plain": [
       "0.125"
      ]
     },
     "execution_count": 31,
     "metadata": {},
     "output_type": "execute_result"
    }
   ],
   "source": [
    "P_old = np.copy(P)\n",
    "g, h = exact_tce(P, c)\n",
    "P = exact_tci(g, h, P_old, Px, Py)\n",
    "np.max(np.abs(P-P_old))"
   ]
  },
  {
   "cell_type": "code",
   "execution_count": 32,
   "id": "f456f302",
   "metadata": {},
   "outputs": [
    {
     "data": {
      "text/plain": [
       "0.125"
      ]
     },
     "execution_count": 32,
     "metadata": {},
     "output_type": "execute_result"
    }
   ],
   "source": [
    "P_old = np.copy(P)\n",
    "g, h = exact_tce(P, c)\n",
    "P = exact_tci(g, h, P_old, Px, Py)\n",
    "np.max(np.abs(P-P_old))"
   ]
  },
  {
   "cell_type": "code",
   "execution_count": 33,
   "id": "b14c2ef5",
   "metadata": {},
   "outputs": [],
   "source": [
    "P_old = np.copy(P)\n",
    "g, h = exact_tce(P, c)\n",
    "# P = exact_tci(g, h, P_old, Px, Py)\n",
    "# np.max(np.abs(P-P_old))"
   ]
  },
  {
   "cell_type": "code",
   "execution_count": 34,
   "id": "845f0ae2",
   "metadata": {},
   "outputs": [
    {
     "data": {
      "text/plain": [
       "array([0.71031912, 0.71031912, 0.71031912, ..., 0.71031912, 0.71031912,\n",
       "       0.71031912])"
      ]
     },
     "execution_count": 34,
     "metadata": {},
     "output_type": "execute_result"
    }
   ],
   "source": [
    "g"
   ]
  },
  {
   "cell_type": "code",
   "execution_count": 35,
   "id": "9d520b82",
   "metadata": {},
   "outputs": [
    {
     "data": {
      "text/plain": [
       "array([16.08253384,  3.73351632,  0.72138359, ..., -0.08382943,\n",
       "        0.22315136,  2.82742524])"
      ]
     },
     "execution_count": 35,
     "metadata": {},
     "output_type": "execute_result"
    }
   ],
   "source": [
    "h"
   ]
  },
  {
   "cell_type": "code",
   "execution_count": null,
   "id": "35f32a10",
   "metadata": {},
   "outputs": [],
   "source": []
  },
  {
   "cell_type": "code",
   "execution_count": 18,
   "id": "9b0639f5",
   "metadata": {},
   "outputs": [],
   "source": [
    "Pz = P\n",
    "d = Pz.shape[0]\n",
    "c = np.reshape(c, (d, -1))\n",
    "A = np.block([[np.eye(d) - Pz, np.zeros((d, d)), np.zeros((d, d))],\n",
    "                [np.eye(d), np.eye(d) - Pz, np.zeros((d, d))],\n",
    "                [np.zeros((d, d)), np.eye(d), np.eye(d) - Pz]])\n",
    "b = np.concatenate([np.zeros((d, 1)), c, np.zeros((d, 1))])"
   ]
  },
  {
   "cell_type": "code",
   "execution_count": 28,
   "id": "8c02d341",
   "metadata": {},
   "outputs": [
    {
     "data": {
      "text/plain": [
       "array([4.88140268, 4.88140268, 4.88140268, 4.88140268, 4.88140268,\n",
       "       4.88140268, 4.88140268, 4.88140268, 4.88140268, 4.88140268,\n",
       "       4.88140268, 4.88140268, 4.88140268, 4.88140268, 4.88140268,\n",
       "       4.88140268, 4.88140268, 4.88140268, 4.88140268, 4.88140268,\n",
       "       4.88140268, 4.88140268, 4.88140268, 4.88140268, 4.88140268,\n",
       "       4.88140268, 4.88140268, 4.88140268, 4.88140268, 4.88140268,\n",
       "       4.88140268, 4.88140268, 4.88140268, 4.88140268, 4.88140268,\n",
       "       4.88140268, 4.88140268, 4.88140268, 4.88140268, 4.88140268,\n",
       "       4.88140268, 4.88140268, 4.88140268, 4.88140268, 4.88140268,\n",
       "       4.88140268, 4.88140268, 4.88140268, 4.88140268, 4.88140268,\n",
       "       4.88140268, 4.88140268, 4.88140268, 4.88140268, 4.88140268,\n",
       "       4.88140268, 4.88140268, 4.88140268, 4.88140268, 4.88140268,\n",
       "       4.88140268, 4.88140268, 4.88140268, 4.88140268, 4.88140268,\n",
       "       4.88140268, 4.88140268, 4.88140268, 4.88140268, 4.88140268,\n",
       "       4.88140268, 4.88140268, 4.88140268, 4.88140268, 4.88140268,\n",
       "       4.88140268, 4.88140268, 4.88140268, 4.88140268, 4.88140268,\n",
       "       4.88140268, 4.88140268, 4.88140268, 4.88140268, 4.88140268,\n",
       "       4.88140268, 4.88140268, 4.88140268, 4.88140268, 4.88140268,\n",
       "       4.88140268, 4.88140268, 4.88140268, 4.88140268, 4.88140268,\n",
       "       4.88140268, 4.88140268, 4.88140268, 4.88140268, 4.88140268,\n",
       "       4.88140268, 4.88140268, 4.88140268, 4.88140268, 4.88140268,\n",
       "       4.88140268, 4.88140268, 4.88140268, 4.88140268, 4.88140268,\n",
       "       4.88140268, 4.88140268, 4.88140268, 4.88140268, 4.88140268,\n",
       "       4.88140268, 4.88140268, 4.88140268, 4.88140268, 4.88140268,\n",
       "       4.88140268, 4.88140268, 4.88140268, 4.88140268, 4.88140268,\n",
       "       4.88140268, 4.88140268, 4.88140268, 4.88140268, 4.88140268,\n",
       "       4.88140268, 4.88140268, 4.88140268, 4.88140268, 4.88140268,\n",
       "       4.88140268, 4.88140268, 4.88140268, 4.88140268, 4.88140268,\n",
       "       4.88140268, 4.88140268, 4.88140268, 4.88140268, 4.88140268,\n",
       "       4.88140268, 4.88140268, 4.88140268, 4.88140268, 4.88140268,\n",
       "       4.88140268, 4.88140268, 4.88140268, 4.88140268, 4.88140268,\n",
       "       4.88140268, 4.88140268, 4.88140268, 4.88140268, 4.88140268,\n",
       "       4.88140268, 4.88140268, 4.88140268, 4.88140268, 4.88140268,\n",
       "       4.88140268, 4.88140268, 4.88140268, 4.88140268, 4.88140268,\n",
       "       4.88140268, 4.88140268, 4.88140268, 4.88140268, 4.88140268,\n",
       "       4.88140268, 4.88140268, 4.88140268, 4.88140268, 4.88140268,\n",
       "       4.88140268, 4.88140268, 4.88140268, 4.88140268, 4.88140268,\n",
       "       4.88140268, 4.88140268, 4.88140268, 4.88140268, 4.88140268,\n",
       "       4.88140268, 4.88140268, 4.88140268, 4.88140268, 4.88140268,\n",
       "       4.88140268, 4.88140268, 4.88140268, 4.88140268, 4.88140268,\n",
       "       4.88140268, 4.88140268, 4.88140268, 4.88140268, 4.88140268,\n",
       "       4.88140268, 4.88140268, 4.88140268, 4.88140268, 4.88140268,\n",
       "       4.88140268, 4.88140268, 4.88140268, 4.88140268, 4.88140268,\n",
       "       4.88140268, 4.88140268, 4.88140268, 4.88140268, 4.88140268,\n",
       "       4.88140268, 4.88140268, 4.88140268, 4.88140268, 4.88140268,\n",
       "       4.88140268, 4.88140268, 4.88140268, 4.88140268, 4.88140268,\n",
       "       4.88140268, 4.88140268, 4.88140268, 4.88140268, 4.88140268,\n",
       "       4.88140268, 4.88140268, 4.88140268, 4.88140268, 4.88140268,\n",
       "       4.88140268, 4.88140268, 4.88140268, 4.88140268, 4.88140268,\n",
       "       4.88140268, 4.88140268, 4.88140268, 4.88140268, 4.88140268,\n",
       "       4.88140268, 4.88140268, 4.88140268, 4.88140268, 4.88140268,\n",
       "       4.88140268, 4.88140268, 4.88140268, 4.88140268, 4.88140268,\n",
       "       4.88140268, 4.88140268, 4.88140268, 4.88140268, 4.88140268,\n",
       "       4.88140268, 4.88140268, 4.88140268, 4.88140268, 4.88140268,\n",
       "       4.88140268, 4.88140268, 4.88140268, 4.88140268, 4.88140268,\n",
       "       4.88140268, 4.88140268, 4.88140268, 4.88140268, 4.88140268,\n",
       "       4.88140268, 4.88140268, 4.88140268, 4.88140268, 4.88140268,\n",
       "       4.88140268, 4.88140268, 4.88140268, 4.88140268, 4.88140268,\n",
       "       4.88140268, 4.88140268, 4.88140268, 4.88140268, 4.88140268,\n",
       "       4.88140268, 4.88140268, 4.88140268, 4.88140268, 4.88140268,\n",
       "       4.88140268, 4.88140268, 4.88140268, 4.88140268, 4.88140268,\n",
       "       4.88140268, 4.88140268, 4.88140268, 4.88140268, 4.88140268,\n",
       "       4.88140268, 4.88140268, 4.88140268, 4.88140268, 4.88140268,\n",
       "       4.88140268, 4.88140268, 4.88140268, 4.88140268, 4.88140268,\n",
       "       4.88140268, 4.88140268, 4.88140268, 4.88140268, 4.88140268,\n",
       "       4.88140268, 4.88140268, 4.88140268, 4.88140268, 4.88140268,\n",
       "       4.88140268, 4.88140268, 4.88140268, 4.88140268, 4.88140268,\n",
       "       4.88140268, 4.88140268, 4.88140268, 4.88140268, 4.88140268,\n",
       "       4.88140268, 4.88140268, 4.88140268, 4.88140268, 4.88140268,\n",
       "       4.88140268, 4.88140268, 4.88140268, 4.88140268, 4.88140268,\n",
       "       4.88140268, 4.88140268, 4.88140268, 4.88140268, 4.88140268,\n",
       "       4.88140268, 4.88140268, 4.88140268, 4.88140268, 4.88140268,\n",
       "       4.88140268, 4.88140268, 4.88140268, 4.88140268, 4.88140268,\n",
       "       4.88140268, 4.88140268, 4.88140268, 4.88140268, 4.88140268,\n",
       "       4.88140268, 4.88140268, 4.88140268, 4.88140268, 4.88140268,\n",
       "       4.88140268, 4.88140268, 4.88140268, 4.88140268, 4.88140268,\n",
       "       4.88140268, 4.88140268, 4.88140268, 4.88140268, 4.88140268,\n",
       "       4.88140268, 4.88140268, 4.88140268, 4.88140268, 4.88140268,\n",
       "       4.88140268, 4.88140268, 4.88140268, 4.88140268, 4.88140268,\n",
       "       4.88140268, 4.88140268, 4.88140268, 4.88140268, 4.88140268])"
      ]
     },
     "execution_count": 28,
     "metadata": {},
     "output_type": "execute_result"
    }
   ],
   "source": [
    "g"
   ]
  },
  {
   "cell_type": "code",
   "execution_count": 15,
   "id": "4567277e",
   "metadata": {},
   "outputs": [
    {
     "data": {
      "text/plain": [
       "False"
      ]
     },
     "execution_count": 15,
     "metadata": {},
     "output_type": "execute_result"
    }
   ],
   "source": [
    "P0 = P_old\n",
    "dx = Px.shape[0]\n",
    "dy = Py.shape[0]\n",
    "Pz = np.zeros((dx * dy, dx * dy))\n",
    "g_const = check_constant(f=g)\n",
    "g_const\n",
    "# If g is not constant, improve transition coupling against g.\n",
    "# if not g_const:\n",
    "    # Pz = setup_ot(f=g, Px=Px, Py=Py, Pz=Pz)\n",
    "    # if np.max(np.abs(np.matmul(P0, g) - np.matmul(Pz, g))) <= 1e-7:\n",
    "    #     print(111)\n",
    "    #     Pz = copy.deepcopy(P0)\n",
    "    # else:\n",
    "    #     return Pz\n",
    "    \n",
    "# # Try to improve with respect to h.\n",
    "# Pz = setup_ot(f=h, Px=Px, Py=Py, Pz=Pz)\n",
    "# if np.max(np.abs(np.matmul(P0, h) - np.matmul(Pz, h))) <= 1e-4:\n",
    "#     Pz = copy.deepcopy(P0)"
   ]
  },
  {
   "cell_type": "code",
   "execution_count": 22,
   "id": "c1ea0f28",
   "metadata": {},
   "outputs": [
    {
     "name": "stdout",
     "output_type": "stream",
     "text": [
      "sol [[0.         0.         0.         0.         0.         0.\n",
      "  0.         0.         0.        ]\n",
      " [0.         0.         0.         0.33333333 0.         0.\n",
      "  0.         0.         0.        ]\n",
      " [0.         0.33333333 0.         0.         0.         0.\n",
      "  0.         0.         0.        ]\n",
      " [0.         0.         0.         0.         0.         0.\n",
      "  0.         0.         0.        ]\n",
      " [0.         0.         0.         0.         0.         0.\n",
      "  0.         0.         0.        ]\n",
      " [0.         0.         0.         0.         0.         0.\n",
      "  0.         0.         0.        ]\n",
      " [0.         0.         0.         0.         0.         0.\n",
      "  0.         0.         0.        ]\n",
      " [0.         0.         0.         0.         0.         0.33333333\n",
      "  0.         0.         0.        ]\n",
      " [0.         0.         0.         0.         0.         0.\n",
      "  0.         0.         0.        ]] 1.5194805194805077\n",
      "0 5 111\n",
      "1 5 111\n",
      "2 5 111\n",
      "3 5 111\n",
      "4 5 111\n",
      "5 5 111\n",
      "6 5 111\n",
      "7 5 111\n",
      "8 5 111\n"
     ]
    }
   ],
   "source": [
    "f = g \n",
    "dx = Px.shape[0]\n",
    "dy = Py.shape[0]\n",
    "f_mat = np.reshape(f, (dx, dy))\n",
    "for x_row in range(dx):\n",
    "    for y_row in range(dy):\n",
    "        dist_x = Px[x_row, :]\n",
    "        dist_y = Py[y_row, :]\n",
    "        # Check if either distribution is degenerate.\n",
    "        if any(dist_x == 1) or any(dist_y == 1):\n",
    "            print(x_row, y_row, 111)\n",
    "            sol = np.outer(dist_x, dist_y)\n",
    "        # If not degenerate, proceed with OT.\n",
    "        else:\n",
    "            sol, val = computeot_pot(f_mat, dist_x, dist_y)\n",
    "            if x_row == 0 and y_row == 4:\n",
    "                print(\"sol\", sol, val)\n",
    "        idx = dy * (x_row) + y_row\n",
    "        Pz[idx, :] = np.reshape(sol, (-1, dx * dy))\n"
   ]
  },
  {
   "cell_type": "code",
   "execution_count": 13,
   "id": "4e2cb5e4",
   "metadata": {},
   "outputs": [
    {
     "data": {
      "text/plain": [
       "array([0.        , 0.        , 0.        , 0.        , 0.        ,\n",
       "       0.        , 0.        , 0.        , 0.        , 0.        ,\n",
       "       0.16666667, 0.16666667, 0.        , 0.        , 0.        ,\n",
       "       0.        , 0.        , 0.        , 0.        , 0.33333333,\n",
       "       0.        , 0.        , 0.        , 0.        , 0.        ,\n",
       "       0.        , 0.        , 0.        , 0.        , 0.        ,\n",
       "       0.        , 0.        , 0.        , 0.        , 0.        ,\n",
       "       0.        , 0.        , 0.        , 0.        , 0.        ,\n",
       "       0.        , 0.        , 0.        , 0.        , 0.        ,\n",
       "       0.        , 0.        , 0.        , 0.        , 0.        ,\n",
       "       0.        , 0.        , 0.        , 0.        , 0.        ,\n",
       "       0.        , 0.        , 0.        , 0.        , 0.        ,\n",
       "       0.        , 0.        , 0.        , 0.        , 0.        ,\n",
       "       0.33333333, 0.        , 0.        , 0.        , 0.        ,\n",
       "       0.        , 0.        , 0.        , 0.        , 0.        ,\n",
       "       0.        , 0.        , 0.        , 0.        , 0.        ,\n",
       "       0.        ])"
      ]
     },
     "execution_count": 13,
     "metadata": {},
     "output_type": "execute_result"
    }
   ],
   "source": [
    "Pz[0]"
   ]
  },
  {
   "cell_type": "code",
   "execution_count": null,
   "id": "07366e00",
   "metadata": {},
   "outputs": [],
   "source": [
    "\"\""
   ]
  }
 ],
 "metadata": {
  "kernelspec": {
   "display_name": "pyotc2",
   "language": "python",
   "name": "python3"
  },
  "language_info": {
   "codemirror_mode": {
    "name": "ipython",
    "version": 3
   },
   "file_extension": ".py",
   "mimetype": "text/x-python",
   "name": "python",
   "nbconvert_exporter": "python",
   "pygments_lexer": "ipython3",
   "version": "3.10.18"
  }
 },
 "nbformat": 4,
 "nbformat_minor": 5
}
