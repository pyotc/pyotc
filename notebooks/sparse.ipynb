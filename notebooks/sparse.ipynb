{
 "cells": [
  {
   "cell_type": "code",
   "execution_count": 1,
   "id": "bc95fc13",
   "metadata": {},
   "outputs": [
    {
     "name": "stderr",
     "output_type": "stream",
     "text": [
      "/Users/bongsooyi/opt/anaconda3/envs/pyotc2/lib/python3.10/site-packages/scikits/__init__.py:1: UserWarning: pkg_resources is deprecated as an API. See https://setuptools.pypa.io/en/latest/pkg_resources.html. The pkg_resources package is slated for removal as early as 2025-11-30. Refrain from using this package or pin to Setuptools<81.\n",
      "  __import__('pkg_resources').declare_namespace(__name__)\n"
     ]
    }
   ],
   "source": [
    "import numpy as np\n",
    "import time\n",
    "import sys\n",
    "import os\n",
    "import copy\n",
    "from scipy.optimize import linprog \n",
    "\n",
    "sys.path.append(os.path.abspath(\"../src\"))\n",
    "\n",
    "from pyotc.otc_backend.policy_iteration.exact import exact_otc_pot\n",
    "from pyotc.otc_backend.graph.utils import adj_to_trans, get_degree_cost\n",
    "from pyotc.examples.stochastic_block_model import stochastic_block_model"
   ]
  },
  {
   "cell_type": "code",
   "execution_count": 2,
   "id": "9c031717",
   "metadata": {},
   "outputs": [],
   "source": [
    "# Seed number\n",
    "np.random.seed(1004)"
   ]
  },
  {
   "cell_type": "code",
   "execution_count": 3,
   "id": "40b4bd16",
   "metadata": {},
   "outputs": [],
   "source": [
    "# m = 5\n",
    "# A1 = stochastic_block_model(\n",
    "#     (m, m, m),\n",
    "#     np.array(\n",
    "#         [\n",
    "#             [0.9, 0.1, 0.1],\n",
    "#             [0.1, 0.9, 0.1],\n",
    "#             [0.1, 0.1, 0.9],\n",
    "#         ]\n",
    "#     ),\n",
    "# )\n",
    "# A2 = stochastic_block_model(\n",
    "#     (m, m, m),\n",
    "#     np.array(\n",
    "#         [\n",
    "#             [0.9, 0.1, 0.1],\n",
    "#             [0.1, 0.9, 0.1],\n",
    "#             [0.1, 0.1, 0.9],\n",
    "#         ]\n",
    "#     ),\n",
    "# )\n",
    "# P1 = adj_to_trans(A1)\n",
    "# P2 = adj_to_trans(A2)\n",
    "# c = get_degree_cost(A1, A2)\n",
    "\n",
    "# start = time.time()\n",
    "# exp_cost, otc, stat_dist = exact_otc_pot(P1, P2, c)\n",
    "# end = time.time()\n",
    "# print(exp_cost, end - start)"
   ]
  },
  {
   "cell_type": "code",
   "execution_count": 3,
   "id": "2c37ebd2",
   "metadata": {},
   "outputs": [
    {
     "name": "stdout",
     "output_type": "stream",
     "text": [
      "1.093743196642743 138.9353609085083\n"
     ]
    }
   ],
   "source": [
    "m = 15\n",
    "A1 = stochastic_block_model(\n",
    "    (m, m, m, m),\n",
    "    np.array(\n",
    "        [\n",
    "            [0.9, 0.1, 0.1, 0.1],\n",
    "            [0.1, 0.9, 0.1, 0.1],\n",
    "            [0.1, 0.1, 0.9, 0.1],\n",
    "            [0.1, 0.1, 0.1, 0.9],\n",
    "        ]\n",
    "    ),\n",
    ")\n",
    "A2 = stochastic_block_model(\n",
    "    (m, m, m, m),\n",
    "    np.array(\n",
    "        [\n",
    "            [0.9, 0.1, 0.1, 0.1],\n",
    "            [0.1, 0.9, 0.1, 0.1],\n",
    "            [0.1, 0.1, 0.9, 0.1],\n",
    "            [0.1, 0.1, 0.1, 0.9],\n",
    "        ]\n",
    "    ),\n",
    ")\n",
    "P1 = adj_to_trans(A1)\n",
    "P2 = adj_to_trans(A2)\n",
    "c = get_degree_cost(A1, A2)\n",
    "\n",
    "start = time.time()\n",
    "exp_cost, otc, stat_dist = exact_otc_pot(P1, P2, c)\n",
    "end = time.time()\n",
    "print(exp_cost, end - start)"
   ]
  },
  {
   "cell_type": "code",
   "execution_count": 19,
   "id": "ecf8a955",
   "metadata": {},
   "outputs": [],
   "source": [
    "\n",
    "import numpy as np\n",
    "import scipy.sparse as sp\n",
    "import ot\n",
    "\n",
    "def computeot_pot(C, r, c):\n",
    "    # Ensure r and c are numpy arrays\n",
    "    r = np.array(r).flatten()\n",
    "    c = np.array(c).flatten()\n",
    "\n",
    "    # Compute the optimal transport plan and the cost using the ot.emd function\n",
    "    lp_sol = ot.emd(r, c, C)\n",
    "    lp_val = np.sum(lp_sol * C)\n",
    "\n",
    "    return lp_sol, lp_val\n",
    "\n",
    "\n",
    "def exact_tce_sparse(R_sparse, c):\n",
    "    n = R_sparse.shape[0]\n",
    "    c = np.reshape(c, (n, -1))\n",
    "    I = sp.eye(n, format='csr')\n",
    "\n",
    "    zero = sp.csr_matrix((n, n))\n",
    "    A = sp.bmat([\n",
    "        [I - R_sparse, zero, zero],\n",
    "        [I, I - R_sparse, zero],\n",
    "        [zero, I, I - R_sparse]\n",
    "    ], format='csr')\n",
    "    rhs = np.concatenate([np.zeros((n, 1)), c, np.zeros((n, 1))])\n",
    "\n",
    "    permc_specs = ['COLAMD', 'MMD_ATA', 'MMD_AT_PLUS_A', 'NATURAL']\n",
    "    solution = None \n",
    "    for spec in permc_specs:\n",
    "        try:\n",
    "            #current_solution = sp.linalg.spsolve(A, rhs, permc_spec=spec)\n",
    "            current_solution = sp.linalg.lsmr(A, rhs, atol=1e-8, btol=1e-8)[0]\n",
    "            if not np.any(np.abs(current_solution) > 1e15):\n",
    "                solution = current_solution\n",
    "                break \n",
    "            else:\n",
    "                print(f\"Solution with {spec} contains large values, trying next spec.\")\n",
    "        except ValueError as e:\n",
    "            print(f\"spsolve with {spec} encountered an error: trying next spec.\")\n",
    "\n",
    "    if solution is None:\n",
    "        raise RuntimeError(\"Failed to find a stable solution with any of the provided permc_specs for sp.linalg.spsolve solver.\")\n",
    "    \n",
    "    g = solution[:n]\n",
    "    h = solution[n:2*n]\n",
    "    return g, h\n",
    "\n",
    "def setup_ot_sparse_fixed(f, Px, Py, Pz):\n",
    "    dx = Px.shape[0]\n",
    "    dy = Py.shape[0]\n",
    "    f_mat = np.reshape(f, (dx, dy))\n",
    "\n",
    "    for x_row in range(dx):\n",
    "        for y_row in range(dy):\n",
    "            dist_x = Px[x_row, :]\n",
    "            dist_y = Py[y_row, :]\n",
    "            # degenerate distribution check\n",
    "            if np.any(dist_x == 1) or np.any(dist_y == 1):\n",
    "                sol = np.outer(dist_x, dist_y)\n",
    "            else:\n",
    "                sol, _ = computeot_pot(f_mat, dist_x, dist_y) \n",
    "            idx = dy * x_row + y_row\n",
    "            sol_flat = sol.flatten()\n",
    "            for j in np.nonzero(sol_flat)[0]:\n",
    "                Pz[idx, j] = sol_flat[j]\n",
    "    return Pz\n",
    "\n",
    "def exact_tci_sparse(g, h, P0, Px, Py): \n",
    "    dx, dy = Px.shape[0], Py.shape[0]\n",
    "    Pz = sp.lil_matrix((dx * dy, dx * dy))\n",
    "    g_const = np.max(g) - np.min(g) <= 1e-3\n",
    "\n",
    "    if not g_const:\n",
    "        Pz = setup_ot_sparse_fixed(g, Px, Py, Pz) \n",
    "        if np.max(np.abs(P0.dot(g) - Pz.dot(g))) <= 1e-7:\n",
    "            Pz = P0.copy()\n",
    "        else:\n",
    "            return Pz\n",
    "\n",
    "    Pz = setup_ot_sparse_fixed(h, Px, Py, Pz) \n",
    "    if np.max(np.abs(P0.dot(h) - Pz.dot(h))) <= 1e-4:\n",
    "        Pz = P0.copy()\n",
    "\n",
    "    return Pz\n",
    "\n",
    "\n",
    "def get_best_stat_dist_sparse(P_sparse, c):\n",
    "    n = P_sparse.shape[0]\n",
    "    c = np.reshape(c, (n, -1))\n",
    "\n",
    "    # Construct Aeq in sparse format\n",
    "    eye_n = sp.eye(n, format='csr')\n",
    "    row_sum = sp.csr_matrix(np.ones((1, n)))  # sum(x) = 1 constraint\n",
    "    Aeq_sparse = sp.vstack([P_sparse.transpose() - eye_n, row_sum], format='csr')\n",
    "    beq = np.concatenate((np.zeros((n, 1)), [[1]]), axis=0)\n",
    "    bounds = [(0, None)] * n\n",
    "\n",
    "    # Solve linear program (method='highs' supports sparse)\n",
    "    res = linprog(c,\n",
    "                A_eq=Aeq_sparse,\n",
    "                b_eq=beq,\n",
    "                bounds=bounds,\n",
    "                method='highs')\n",
    "    if not res.success:\n",
    "        raise RuntimeError(\"Linear program failed: \" + res.message)\n",
    "\n",
    "    return res.x, res.fun\n",
    "\n",
    "def get_stat_dist_sparse(P_sparse, max_iter=10000, tol=1e-10):\n",
    "    \"\"\"\n",
    "    Computes the stationary distribution of a sparse transition matrix using power iteration.\n",
    "\n",
    "    Args:\n",
    "        P_sparse (sp.spmatrix): (n x n) row-stochastic transition matrix\n",
    "        max_iter (int): max number of iterations\n",
    "        tol (float): convergence tolerance\n",
    "\n",
    "    Returns:\n",
    "        pi (np.ndarray): stationary distribution of shape (n,)\n",
    "    \"\"\"\n",
    "    n = P_sparse.shape[0]\n",
    "    pi = np.ones(n) / n  # initial uniform distribution\n",
    "\n",
    "    for _ in range(max_iter):\n",
    "        pi_new = pi @ P_sparse\n",
    "        if np.linalg.norm(pi_new - pi, ord=1) < tol:\n",
    "            break\n",
    "        pi = pi_new\n",
    "\n",
    "    pi /= np.sum(pi)  # ensure normalization\n",
    "    return pi\n",
    "\n",
    "\n",
    "\n",
    "def exact_otc_pot_sparse(Px, Py, c, get_best_sd=True, max_iter=100):\n",
    "    start = time.time()\n",
    "    dx, dy = Px.shape[0], Py.shape[0]\n",
    "    P = sp.kron(sp.csr_matrix(Px), sp.csr_matrix(Py), format='csr')\n",
    "\n",
    "    for iter in range(max_iter):\n",
    "        print(\"Iteration:\", iter)\n",
    "\n",
    "        P_old = P.copy()\n",
    "        g, h = exact_tce_sparse(P, c)\n",
    "        P = exact_tci_sparse(g, h, P_old, Px, Py) #, forbidden_set)\n",
    "\n",
    "        #print(np.max(np.abs(P.toarray()-P_old.toarray())))\n",
    "        #if np.max(np.abs(P.toarray()-P_old.toarray())) <= 1e-10:\n",
    "        if (P != P_old).nnz == 0:\n",
    "            if get_best_sd:\n",
    "                stat_dist, exp_cost = get_best_stat_dist_sparse(P, c)\n",
    "                stat_dist = np.reshape(stat_dist, (dx, dy))\n",
    "            else:\n",
    "                stat_dist = get_stat_dist_sparse(P)\n",
    "                stat_dist = np.reshape(stat_dist, (dx, dy))\n",
    "                exp_cost = g[0].item()\n",
    "            end = time.time()\n",
    "            print(f\"Convergence reached in {iter} iterations, took {end - start:.4f} seconds\")\n",
    "            return float(exp_cost), P, stat_dist\n",
    "\n",
    "    return None, None, None"
   ]
  },
  {
   "cell_type": "code",
   "execution_count": 5,
   "id": "32671c9e",
   "metadata": {},
   "outputs": [
    {
     "name": "stdout",
     "output_type": "stream",
     "text": [
      "Iteration: 0\n",
      "Solution with COLAMD contains large values, trying next spec.\n",
      "Iteration: 1\n",
      "Iteration: 2\n",
      "Iteration: 3\n",
      "Iteration: 4\n",
      "Solution with COLAMD contains large values, trying next spec.\n",
      "Convergence reached in 4 iterations, took 26.9875 seconds\n",
      "0.7103069746935031\n"
     ]
    }
   ],
   "source": [
    "exp_cost_sparse, otc_sparse, stat_dist_sparse = exact_otc_pot_sparse(P1, P2, c)\n",
    "print(exp_cost_sparse)\n"
   ]
  },
  {
   "cell_type": "code",
   "execution_count": 23,
   "id": "3f9e1547",
   "metadata": {},
   "outputs": [
    {
     "name": "stdout",
     "output_type": "stream",
     "text": [
      "Iteration: 0\n",
      "Iteration: 1\n",
      "Iteration: 2\n",
      "Iteration: 3\n",
      "Iteration: 4\n",
      "Convergence reached in 4 iterations, took 10.1033 seconds\n",
      "0.7103069747735357\n"
     ]
    }
   ],
   "source": [
    "exp_cost_sparse, otc_sparse, stat_dist_sparse = exact_otc_pot_sparse(P1, P2, c)\n",
    "print(exp_cost_sparse)\n"
   ]
  },
  {
   "cell_type": "code",
   "execution_count": 15,
   "id": "a7d6774a",
   "metadata": {},
   "outputs": [
    {
     "name": "stdout",
     "output_type": "stream",
     "text": [
      "Iteration: 0\n",
      "Solution with COLAMD contains large values, trying next spec.\n",
      "Iteration: 1\n",
      "Iteration: 2\n",
      "Iteration: 3\n",
      "Iteration: 4\n",
      "Solution with COLAMD contains large values, trying next spec.\n",
      "Convergence reached in 4 iterations, took 20.5820 seconds\n",
      "0.7103069746934912\n"
     ]
    }
   ],
   "source": [
    "a, _, not_best = exact_otc_pot_sparse(P1, P2, c, get_best_sd=False)\n",
    "print(a)"
   ]
  },
  {
   "cell_type": "code",
   "execution_count": 20,
   "id": "42ba41b4",
   "metadata": {},
   "outputs": [
    {
     "name": "stdout",
     "output_type": "stream",
     "text": [
      "0.109375\n"
     ]
    }
   ],
   "source": [
    "Px, Py = P1, P2\n",
    "c = get_degree_cost(A1, A2)\n",
    "dx, dy = Px.shape[0], Py.shape[0]\n",
    "n = dx * dy\n",
    "\n",
    "P = sp.kron(sp.csr_matrix(Px), sp.csr_matrix(Py), format='csr')\n",
    "\n",
    "P_old = P.copy()\n",
    "\n",
    "g, h = exact_tce_sparse(P, c)\n",
    "P = exact_tci_sparse(g, h, P_old, Px, Py) #, forbidden_set)\n",
    "\n",
    "print(np.max(np.abs(P.toarray()-P_old.toarray())))"
   ]
  },
  {
   "cell_type": "code",
   "execution_count": 21,
   "id": "d008e236",
   "metadata": {},
   "outputs": [
    {
     "data": {
      "text/plain": [
       "array([5.34901515, 5.34900873, 5.34901692, ..., 5.34898946, 5.34899069,\n",
       "       5.34898948])"
      ]
     },
     "execution_count": 21,
     "metadata": {},
     "output_type": "execute_result"
    }
   ],
   "source": [
    "g"
   ]
  },
  {
   "cell_type": "code",
   "execution_count": 22,
   "id": "da3a96d7",
   "metadata": {},
   "outputs": [
    {
     "data": {
      "text/plain": [
       "array([ 9.54502668,  0.16226404, -2.80037941, ..., -5.30223915,\n",
       "       -4.62552954, -1.71026877])"
      ]
     },
     "execution_count": 22,
     "metadata": {},
     "output_type": "execute_result"
    }
   ],
   "source": [
    "h"
   ]
  },
  {
   "cell_type": "code",
   "execution_count": 10,
   "id": "a9daf56f",
   "metadata": {},
   "outputs": [
    {
     "data": {
      "text/plain": [
       "array([ 9.537439  ,  0.15749456, -2.80812496, ..., -5.29758017,\n",
       "       -4.62067663, -1.70579202])"
      ]
     },
     "execution_count": 10,
     "metadata": {},
     "output_type": "execute_result"
    }
   ],
   "source": [
    "h"
   ]
  },
  {
   "cell_type": "code",
   "execution_count": 18,
   "id": "3452ce0a",
   "metadata": {},
   "outputs": [
    {
     "data": {
      "text/plain": [
       "array([0.        , 0.        , 0.        , 0.        , 0.        ,\n",
       "       0.        , 0.        , 0.        , 0.        , 0.        ,\n",
       "       0.        , 0.08333333, 0.        , 0.        , 0.        ,\n",
       "       0.        , 0.        , 0.        , 0.        , 0.        ,\n",
       "       0.        , 0.        , 0.        , 0.        , 0.        ,\n",
       "       0.        , 0.        , 0.        , 0.        , 0.        ,\n",
       "       0.        , 0.        , 0.        , 0.        , 0.        ,\n",
       "       0.        , 0.        , 0.        , 0.        , 0.        ,\n",
       "       0.        , 0.        , 0.        , 0.        , 0.        ,\n",
       "       0.        , 0.        , 0.        , 0.        , 0.        ,\n",
       "       0.        , 0.        , 0.        , 0.        , 0.        ,\n",
       "       0.        , 0.        , 0.        , 0.        , 0.        ,\n",
       "       0.        , 0.        , 0.        , 0.        , 0.        ,\n",
       "       0.        , 0.        , 0.        , 0.        , 0.        ,\n",
       "       0.        , 0.        , 0.        , 0.        , 0.        ,\n",
       "       0.        , 0.        , 0.        , 0.        , 0.        ,\n",
       "       0.        , 0.        , 0.        , 0.        , 0.        ,\n",
       "       0.        , 0.        , 0.        , 0.        , 0.        ,\n",
       "       0.        , 0.        , 0.        , 0.        , 0.        ,\n",
       "       0.        , 0.05555556, 0.        , 0.        , 0.02777778,\n",
       "       0.        , 0.        , 0.        , 0.        , 0.        ,\n",
       "       0.        , 0.        , 0.        , 0.        , 0.        ,\n",
       "       0.        , 0.        , 0.        , 0.        , 0.        ,\n",
       "       0.        , 0.        , 0.        , 0.        , 0.        ,\n",
       "       0.        , 0.        , 0.        , 0.        , 0.        ,\n",
       "       0.        , 0.        , 0.        , 0.        , 0.        ,\n",
       "       0.        , 0.        , 0.        , 0.08333333, 0.        ,\n",
       "       0.        , 0.        , 0.        , 0.        , 0.        ,\n",
       "       0.        , 0.        , 0.        , 0.        , 0.        ,\n",
       "       0.        , 0.        , 0.        , 0.        , 0.        ,\n",
       "       0.        , 0.        , 0.        , 0.        , 0.        ,\n",
       "       0.        , 0.        , 0.        , 0.        , 0.        ,\n",
       "       0.        , 0.        , 0.        , 0.        , 0.        ,\n",
       "       0.        , 0.        , 0.        , 0.        , 0.        ,\n",
       "       0.        , 0.        , 0.        , 0.        , 0.        ,\n",
       "       0.        , 0.        , 0.        , 0.        , 0.08333333,\n",
       "       0.        , 0.        , 0.        , 0.        , 0.        ,\n",
       "       0.        , 0.        , 0.        , 0.        , 0.        ,\n",
       "       0.        , 0.        , 0.        , 0.        , 0.        ,\n",
       "       0.        , 0.        , 0.        , 0.        , 0.        ])"
      ]
     },
     "execution_count": 18,
     "metadata": {},
     "output_type": "execute_result"
    }
   ],
   "source": [
    "P.toarray()[10][200:400]"
   ]
  },
  {
   "cell_type": "code",
   "execution_count": 7,
   "id": "8921d857",
   "metadata": {},
   "outputs": [
    {
     "name": "stdout",
     "output_type": "stream",
     "text": [
      "0.125\n"
     ]
    }
   ],
   "source": [
    "P_old = P.copy()\n",
    "g, h = exact_tce_sparse(P, c)\n",
    "P = exact_tci_sparse(g, h, P_old, Px, Py) \n",
    "print(np.max(np.abs(P.toarray()-P_old.toarray())))"
   ]
  },
  {
   "cell_type": "code",
   "execution_count": 8,
   "id": "196a21dc",
   "metadata": {},
   "outputs": [
    {
     "name": "stdout",
     "output_type": "stream",
     "text": [
      "0.125\n"
     ]
    }
   ],
   "source": [
    "P_old = P.copy()\n",
    "g, h = exact_tce_sparse(P, c)\n",
    "P = exact_tci_sparse(g, h, P_old, Px, Py) \n",
    "print(np.max(np.abs(P.toarray()-P_old.toarray())))"
   ]
  },
  {
   "cell_type": "code",
   "execution_count": null,
   "id": "81dad928",
   "metadata": {},
   "outputs": [],
   "source": []
  },
  {
   "cell_type": "code",
   "execution_count": 28,
   "id": "5b9a999d",
   "metadata": {},
   "outputs": [
    {
     "name": "stdout",
     "output_type": "stream",
     "text": [
      "0.125\n"
     ]
    }
   ],
   "source": [
    "P_old = P.copy()\n",
    "g, h = exact_tce_sparse(P, c)\n",
    "P = exact_tci_sparse(g, h, P_old, Px, Py) \n",
    "print(np.max(np.abs(P.toarray()-P_old.toarray())))"
   ]
  },
  {
   "cell_type": "code",
   "execution_count": 29,
   "id": "44629816",
   "metadata": {},
   "outputs": [
    {
     "data": {
      "text/plain": [
       "array([0., 0., 0., ..., 0., 0., 0.])"
      ]
     },
     "execution_count": 29,
     "metadata": {},
     "output_type": "execute_result"
    }
   ],
   "source": [
    "g"
   ]
  },
  {
   "cell_type": "code",
   "execution_count": 31,
   "id": "1c32fb48",
   "metadata": {},
   "outputs": [
    {
     "data": {
      "text/plain": [
       "37.784782653369895"
      ]
     },
     "execution_count": 31,
     "metadata": {},
     "output_type": "execute_result"
    }
   ],
   "source": [
    "h[100]"
   ]
  },
  {
   "cell_type": "code",
   "execution_count": 11,
   "id": "b70ee3c9",
   "metadata": {},
   "outputs": [
    {
     "name": "stdout",
     "output_type": "stream",
     "text": [
      "[0. 0. 0. ... 0. 0. 0.]\n",
      "[48.33036312 34.21570604 33.98193715 ... 42.26738245 43.53125\n",
      " 41.85336382]\n",
      "[-1.75425504e+18 -1.75425504e+18 -1.75425504e+18 ... -1.75425504e+18\n",
      " -1.75425504e+18 -1.75425504e+18]\n"
     ]
    }
   ],
   "source": [
    "R_sparse = P\n",
    "n = R_sparse.shape[0]\n",
    "c = np.reshape(c, (n, -1))\n",
    "I = sp.eye(n, format='csr')\n",
    "\n",
    "zero = sp.csr_matrix((n, n))\n",
    "A = sp.bmat([\n",
    "    [I - R_sparse, zero, zero],\n",
    "    [I, I - R_sparse, zero],\n",
    "    [zero, I, I - R_sparse]\n",
    "], format='csr')\n",
    "\n",
    "rhs = np.concatenate([np.zeros((n, 1)), c, np.zeros((n, 1))])\n",
    "solution = sp.linalg.spsolve(A, rhs, permc_spec='MMD_ATA')\n",
    "\n",
    "print(solution[:n])\n",
    "print(solution[n:2*n])\n",
    "print(solution[2*n:3*n])"
   ]
  },
  {
   "cell_type": "code",
   "execution_count": 12,
   "id": "dee30663",
   "metadata": {},
   "outputs": [],
   "source": [
    "from scipy.sparse.linalg import spsolve, MatrixRankWarning\n",
    "import warnings\n",
    "\n",
    "with warnings.catch_warnings():\n",
    "    warnings.simplefilter(\"error\", MatrixRankWarning)  # 경고를 에러로 바꿈\n",
    "    try:\n",
    "        x = sp.linalg.spsolve(A, rhs, permc_spec='MMD_ATA')\n",
    "    except MatrixRankWarning as e:\n",
    "        print(\"⚠️ MatrixRankWarning 발생:\", e)\n"
   ]
  },
  {
   "cell_type": "code",
   "execution_count": 19,
   "id": "9299141d",
   "metadata": {},
   "outputs": [
    {
     "data": {
      "text/plain": [
       "True"
      ]
     },
     "execution_count": 19,
     "metadata": {},
     "output_type": "execute_result"
    }
   ],
   "source": [
    "-x[-1]  > 1e+15"
   ]
  },
  {
   "cell_type": "code",
   "execution_count": null,
   "id": "1b8c507d",
   "metadata": {},
   "outputs": [],
   "source": []
  },
  {
   "cell_type": "code",
   "execution_count": 9,
   "id": "ed4c1e65",
   "metadata": {},
   "outputs": [
    {
     "ename": "NameError",
     "evalue": "name 'A' is not defined",
     "output_type": "error",
     "traceback": [
      "\u001b[0;31m---------------------------------------------------------------------------\u001b[0m",
      "\u001b[0;31mNameError\u001b[0m                                 Traceback (most recent call last)",
      "Cell \u001b[0;32mIn[9], line 1\u001b[0m\n\u001b[0;32m----> 1\u001b[0m solution \u001b[38;5;241m=\u001b[39m sp\u001b[38;5;241m.\u001b[39mlinalg\u001b[38;5;241m.\u001b[39mspsolve(\u001b[43mA\u001b[49m, rhs, permc_spec\u001b[38;5;241m=\u001b[39m\u001b[38;5;124m'\u001b[39m\u001b[38;5;124mMMD_ATA\u001b[39m\u001b[38;5;124m'\u001b[39m, use_umfpack\u001b[38;5;241m=\u001b[39m\u001b[38;5;28;01mFalse\u001b[39;00m)\n\u001b[1;32m      3\u001b[0m \u001b[38;5;28mprint\u001b[39m(solution[:n])\n\u001b[1;32m      4\u001b[0m \u001b[38;5;28mprint\u001b[39m(solution[n:\u001b[38;5;241m2\u001b[39m\u001b[38;5;241m*\u001b[39mn])\n",
      "\u001b[0;31mNameError\u001b[0m: name 'A' is not defined"
     ]
    }
   ],
   "source": [
    "solution = sp.linalg.spsolve(A, rhs, permc_spec='MMD_ATA', use_umfpack=False)\n",
    "\n",
    "print(solution[:n])\n",
    "print(solution[n:2*n])\n",
    "print(solution[2*n:3*n])"
   ]
  },
  {
   "cell_type": "code",
   "execution_count": 7,
   "id": "4f49069c",
   "metadata": {},
   "outputs": [],
   "source": [
    "Px, Py = P1, P2\n",
    "c = get_degree_cost(A1, A2)\n",
    "dx, dy = Px.shape[0], Py.shape[0]\n",
    "n = dx * dy\n",
    "forbidden_set = get_forbidden_indices_from_kronecker(Px, Py)\n",
    "\n",
    "P = sp.kron(sp.csr_matrix(Px), sp.csr_matrix(Py), format='csr')\n",
    "\n",
    "P_old = sp.csr_matrix(np.ones((n, n)))\n",
    "max_iter = 100\n",
    "tol = 1e-10\n",
    "\n",
    "diff = np.max(np.abs(P.toarray() - P_old.toarray()))\n",
    "if diff <= tol:\n",
    "    print('break')\n",
    "P_old = copy.deepcopy(P)\n",
    "\n",
    "g, h = exact_tce_sparse(P, c)\n",
    "\n",
    "\n",
    "# P = exact_tci_sparse(g, h, P_old, Px, Py, forbidden_set)\n",
    "\n",
    "\n",
    "#if (P != P_old).nnz == 0:\n"
   ]
  },
  {
   "cell_type": "code",
   "execution_count": null,
   "id": "47c6d826",
   "metadata": {},
   "outputs": [],
   "source": []
  },
  {
   "cell_type": "code",
   "execution_count": 27,
   "id": "50db7dcf",
   "metadata": {},
   "outputs": [],
   "source": [
    "R_sparse = P\n",
    "n = R_sparse.shape[0]\n",
    "c = np.reshape(c, (n, -1))\n",
    "I = sp.eye(n, format='csr')\n",
    "\n",
    "zero = sp.csr_matrix((n, n))\n",
    "\n",
    "A = sp.bmat([\n",
    "    [I - R_sparse, zero, zero],\n",
    "    [I, I - R_sparse, zero],\n",
    "    [zero, I, I - R_sparse]\n",
    "], format='csr')\n",
    "\n",
    "rhs = np.concatenate([np.zeros((n, 1)), c, np.zeros((n, 1))])\n",
    "solution = sp.linalg.spsolve(A, rhs)"
   ]
  },
  {
   "cell_type": "code",
   "execution_count": null,
   "id": "d6839e19",
   "metadata": {},
   "outputs": [],
   "source": []
  },
  {
   "cell_type": "code",
   "execution_count": 30,
   "id": "d6d6775d",
   "metadata": {},
   "outputs": [
    {
     "data": {
      "text/plain": [
       "array([[  4.88140268],\n",
       "       [  4.88140268],\n",
       "       [  4.88140268],\n",
       "       ...,\n",
       "       [230.25736019],\n",
       "       [241.08122875],\n",
       "       [245.17754113]], shape=(1200, 1))"
      ]
     },
     "execution_count": 30,
     "metadata": {},
     "output_type": "execute_result"
    }
   ],
   "source": [
    "np.linalg.inv(A.toarray()) @ rhs"
   ]
  },
  {
   "cell_type": "code",
   "execution_count": 32,
   "id": "ebca7bce",
   "metadata": {},
   "outputs": [
    {
     "data": {
      "text/plain": [
       "array([ 0.00000000e+00,  0.00000000e+00,  0.00000000e+00, ...,\n",
       "       -6.61183378e+17, -6.61183378e+17, -6.61183378e+17], shape=(1200,))"
      ]
     },
     "execution_count": 32,
     "metadata": {},
     "output_type": "execute_result"
    }
   ],
   "source": [
    "solution = sp.linalg.spsolve(A, rhs)\n",
    "solution"
   ]
  },
  {
   "cell_type": "code",
   "execution_count": null,
   "id": "400f0796",
   "metadata": {},
   "outputs": [],
   "source": []
  }
 ],
 "metadata": {
  "kernelspec": {
   "display_name": "pyotc2",
   "language": "python",
   "name": "python3"
  },
  "language_info": {
   "codemirror_mode": {
    "name": "ipython",
    "version": 3
   },
   "file_extension": ".py",
   "mimetype": "text/x-python",
   "name": "python",
   "nbconvert_exporter": "python",
   "pygments_lexer": "ipython3",
   "version": "3.10.18"
  }
 },
 "nbformat": 4,
 "nbformat_minor": 5
}
