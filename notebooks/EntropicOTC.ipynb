{
 "cells": [
  {
   "cell_type": "markdown",
   "id": "d2785a0e",
   "metadata": {},
   "source": [
    "# Entropic OTC"
   ]
  },
  {
   "cell_type": "markdown",
   "id": "4830e159",
   "metadata": {},
   "source": [
    "This notebook aims to compare the results of entropic OTC and exact OTC, demonstrating that the entropic OTC converges to the exact OTC. Two examples are provided to illustrate this convergence."
   ]
  },
  {
   "cell_type": "code",
   "execution_count": 2,
   "id": "5d3d19a5",
   "metadata": {},
   "outputs": [],
   "source": [
    "import numpy as np\n",
    "import networkx as nx\n",
    "import sys\n",
    "import os\n",
    "\n",
    "sys.path.append(os.path.abspath(\"../src\"))\n",
    "\n",
    "from pyotc.otc_backend.policy_iteration.dense.exact import exact_otc\n",
    "from pyotc.otc_backend.policy_iteration.dense.entropic import entropic_otc\n",
    "from pyotc.otc_backend.graph.utils import adj_to_trans, get_degree_cost\n",
    "from pyotc.examples.stochastic_block_model import stochastic_block_model\n",
    "\n",
    "from pyotc.examples.wheel import wheel_1, wheel_2, wheel_3\n",
    "from pyotc.examples.stochastic_block_model import stochastic_block_model"
   ]
  },
  {
   "cell_type": "markdown",
   "id": "2b005ba7",
   "metadata": {},
   "source": [
    "## Example 1: Wheel Graphs"
   ]
  },
  {
   "cell_type": "code",
   "execution_count": 3,
   "id": "e6c2666b",
   "metadata": {},
   "outputs": [],
   "source": [
    "# Create adjacency matrices of wheel graphs\n",
    "A1 = nx.to_numpy_array(wheel_1)\n",
    "A2 = nx.to_numpy_array(wheel_2)\n",
    "A3 = nx.to_numpy_array(wheel_3)\n",
    "\n",
    "# Convert adjacency matrices to transition matrices\n",
    "P1 = adj_to_trans(A1)\n",
    "P2 = adj_to_trans(A2)\n",
    "P3 = adj_to_trans(A3)\n",
    "\n",
    "# Obtain degree based costs for the wheel graphs\n",
    "c12 = get_degree_cost(A1, A2)\n",
    "c13 = get_degree_cost(A1, A3)"
   ]
  },
  {
   "cell_type": "markdown",
   "id": "97436ee7",
   "metadata": {},
   "source": [
    "### Compute the exact OTC costs between the wheel graphs"
   ]
  },
  {
   "cell_type": "code",
   "execution_count": 4,
   "id": "0c71f869",
   "metadata": {},
   "outputs": [
    {
     "name": "stdout",
     "output_type": "stream",
     "text": [
      "Starting exact_otc_dense...\n",
      "Iteration: 0\n",
      "Computing exact TCE...\n",
      "Computing exact TCI...\n",
      "Iteration: 1\n",
      "Computing exact TCE...\n",
      "Computing exact TCI...\n",
      "Convergence reached in 2 iterations. Computing stationary distribution...\n",
      "[exact_otc] Finished. Total time elapsed: 0.296 seconds.\n",
      "Starting exact_otc_dense...\n",
      "Iteration: 0\n",
      "Computing exact TCE...\n",
      "Computing exact TCI...\n",
      "Iteration: 1\n",
      "Computing exact TCE...\n",
      "Computing exact TCI...\n",
      "Convergence reached in 2 iterations. Computing stationary distribution...\n",
      "[exact_otc] Finished. Total time elapsed: 0.238 seconds.\n",
      "\n",
      "Exact OTC cost between Wheel 1 and Wheel 2: 2.655172413793104\n",
      "Exact OTC cost between Wheel 1 and Wheel 3: 2.5517241379310294\n"
     ]
    }
   ],
   "source": [
    "wheel_exact12, _, _ = exact_otc(P1, P2, c12)\n",
    "wheel_exact13, _, _ = exact_otc(P1, P3, c13)\n",
    "\n",
    "print(\"\\nExact OTC cost between Wheel 1 and Wheel 2:\", wheel_exact12)\n",
    "print(\"Exact OTC cost between Wheel 1 and Wheel 3:\", wheel_exact13)"
   ]
  },
  {
   "cell_type": "markdown",
   "id": "169a6c58",
   "metadata": {},
   "source": [
    "### Compute the entropic OTC costs between the wheel graphs"
   ]
  },
  {
   "cell_type": "markdown",
   "id": "49820801",
   "metadata": {},
   "source": [
    "- L = 25, T = 50, xi = 0.1, sink_iter = 10"
   ]
  },
  {
   "cell_type": "code",
   "execution_count": 5,
   "id": "2a4109e0",
   "metadata": {},
   "outputs": [
    {
     "name": "stdout",
     "output_type": "stream",
     "text": [
      "Entropic OTC cost between Wheel 1 and Wheel 2: 2.655272554155938\n",
      "Entropic OTC cost between Wheel 1 and Wheel 3: 2.55387424903435\n"
     ]
    }
   ],
   "source": [
    "wheel_entropic12, _, _ = entropic_otc(P1, P2, c12, get_sd=True, L=25, T=50, xi=0.1, sink_iter=10)\n",
    "wheel_entropic13, _, _ = entropic_otc(P1, P3, c13, get_sd=True, L=25, T=50, xi=0.1, sink_iter=10)\n",
    "\n",
    "print(\"Entropic OTC cost between Wheel 1 and Wheel 2:\", wheel_entropic12)\n",
    "print(\"Entropic OTC cost between Wheel 1 and Wheel 3:\", wheel_entropic13)"
   ]
  },
  {
   "cell_type": "markdown",
   "id": "9d5c5c93",
   "metadata": {},
   "source": [
    "## Example 2: Stochastic Block Models"
   ]
  },
  {
   "cell_type": "code",
   "execution_count": 6,
   "id": "19d9a7ff",
   "metadata": {},
   "outputs": [],
   "source": [
    "# Seed number\n",
    "np.random.seed(100)\n",
    "\n",
    "# Generate two stochastic block model graphs with 4 blocks, each containing 5 nodes\n",
    "m = 5\n",
    "A1 = stochastic_block_model(\n",
    "    (m, m, m, m),\n",
    "    np.array(\n",
    "        [\n",
    "            [0.9, 0.1, 0.1, 0.1],\n",
    "            [0.1, 0.9, 0.1, 0.1],\n",
    "            [0.1, 0.1, 0.9, 0.1],\n",
    "            [0.1, 0.1, 0.1, 0.9],\n",
    "        ]\n",
    "    ),\n",
    ")\n",
    "\n",
    "A2 = stochastic_block_model(\n",
    "    (m, m, m, m),\n",
    "    np.array(\n",
    "        [\n",
    "            [0.9, 0.1, 0.1, 0.1],\n",
    "            [0.1, 0.9, 0.1, 0.1],\n",
    "            [0.1, 0.1, 0.9, 0.1],\n",
    "            [0.1, 0.1, 0.1, 0.9],\n",
    "        ]\n",
    "    ),\n",
    ")\n",
    "\n",
    "# Convert adjacency matrices to transition matrices\n",
    "P1 = adj_to_trans(A1)\n",
    "P2 = adj_to_trans(A2)\n",
    "\n",
    "# Obtain degree based costs\n",
    "c = get_degree_cost(A1, A2)"
   ]
  },
  {
   "cell_type": "markdown",
   "id": "f9ef76fd",
   "metadata": {},
   "source": [
    "### Compute the exact OTC costs between SBMs"
   ]
  },
  {
   "cell_type": "code",
   "execution_count": 7,
   "id": "3c13e397",
   "metadata": {},
   "outputs": [
    {
     "name": "stdout",
     "output_type": "stream",
     "text": [
      "Starting exact_otc_dense...\n",
      "Iteration: 0\n",
      "Computing exact TCE...\n",
      "Computing exact TCI...\n",
      "Iteration: 1\n",
      "Computing exact TCE...\n",
      "Computing exact TCI...\n",
      "Iteration: 2\n",
      "Computing exact TCE...\n",
      "Computing exact TCI...\n",
      "Iteration: 3\n",
      "Computing exact TCE...\n",
      "Computing exact TCI...\n",
      "Iteration: 4\n",
      "Computing exact TCE...\n",
      "Computing exact TCI...\n",
      "Convergence reached in 5 iterations. Computing stationary distribution...\n",
      "[exact_otc] Finished. Total time elapsed: 0.976 seconds.\n",
      "\n",
      "Exact OTC cost between SBM1 and SBM2: 1.1247533069245073\n"
     ]
    }
   ],
   "source": [
    "sbm_exact, _, _ = exact_otc(P1, P2, c)\n",
    "print(\"\\nExact OTC cost between SBM1 and SBM2:\", sbm_exact)"
   ]
  },
  {
   "cell_type": "markdown",
   "id": "21de6bbc",
   "metadata": {},
   "source": [
    "### Compute the entropic OTC costs between SBMs"
   ]
  },
  {
   "cell_type": "markdown",
   "id": "bb3da553",
   "metadata": {},
   "source": [
    "- L = 25, T = 50, xi = 10, sink_iter = 1000"
   ]
  },
  {
   "cell_type": "code",
   "execution_count": 8,
   "id": "b77a123b",
   "metadata": {},
   "outputs": [
    {
     "name": "stdout",
     "output_type": "stream",
     "text": [
      "Entropic OTC cost between SBM1 and SBM2: 1.1398150358827825\n"
     ]
    }
   ],
   "source": [
    "sbm_entropic, _, _ = entropic_otc(P1, P2, c, get_sd=True, L=25, T=50, xi=10, sink_iter=1000)\n",
    "\n",
    "print(\"Entropic OTC cost between SBM1 and SBM2:\", sbm_entropic)"
   ]
  }
 ],
 "metadata": {
  "kernelspec": {
   "display_name": "pyotc2",
   "language": "python",
   "name": "python3"
  },
  "language_info": {
   "codemirror_mode": {
    "name": "ipython",
    "version": 3
   },
   "file_extension": ".py",
   "mimetype": "text/x-python",
   "name": "python",
   "nbconvert_exporter": "python",
   "pygments_lexer": "ipython3",
   "version": "3.10.18"
  }
 },
 "nbformat": 4,
 "nbformat_minor": 5
}
