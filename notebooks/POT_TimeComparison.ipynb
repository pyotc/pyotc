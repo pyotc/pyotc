{
 "cells": [
  {
   "cell_type": "code",
   "execution_count": 1,
   "metadata": {},
   "outputs": [],
   "source": [
    "import numpy as np\n",
    "import time\n",
    "import sys\n",
    "import os\n",
    "sys.path.append(os.path.abspath('../src'))\n",
    "\n",
    "from pyotc.otc_backend.policy_iteration.exact import exact_otc1\n",
    "from pyotc.otc_backend.policy_iteration.exact import exact_otc1_pot\n",
    "from pyotc.otc_backend.graph.utils import adj_to_trans, get_degree_cost\n",
    "from pyotc.examples.stochastic_block_model import stochastic_block_model"
   ]
  },
  {
   "cell_type": "code",
   "execution_count": 2,
   "metadata": {},
   "outputs": [],
   "source": [
    "# Seed number\n",
    "np.random.seed(1009)"
   ]
  },
  {
   "cell_type": "code",
   "execution_count": 3,
   "metadata": {},
   "outputs": [],
   "source": [
    "m = 5\n",
    "A1 = stochastic_block_model((m,m,m,m), np.array([[0.9,0.1,0.1,0.1],[0.1,0.9,0.1,0.1],[0.1,0.1,0.9,0.1],[0.1,0.1,0.1,0.9]]))\n",
    "A2 = stochastic_block_model((m,m,m,m), np.array([[0.9,0.1,0.1,0.1],[0.1,0.9,0.1,0.1],[0.1,0.1,0.9,0.1],[0.1,0.1,0.1,0.9]]))\n",
    "P1 = adj_to_trans(A1)\n",
    "P2 = adj_to_trans(A2)\n",
    "c = get_degree_cost(A1,A2)"
   ]
  },
  {
   "cell_type": "code",
   "execution_count": 4,
   "metadata": {},
   "outputs": [
    {
     "name": "stdout",
     "output_type": "stream",
     "text": [
      "5.515355825424194\n",
      "0.6010298728942871\n"
     ]
    }
   ],
   "source": [
    "start = time.time()\n",
    "iter_ctr1, exp_cost1, otc1, stat_dist1 = exact_otc1(P1, P2, c)\n",
    "end = time.time()\n",
    "print(end - start)\n",
    "\n",
    "start = time.time()\n",
    "iter_ctr2, exp_cost2, otc2, stat_dist2 = exact_otc1_pot(P1, P2, c)\n",
    "end = time.time()\n",
    "print(end - start)"
   ]
  },
  {
   "cell_type": "code",
   "execution_count": 5,
   "metadata": {},
   "outputs": [
    {
     "name": "stdout",
     "output_type": "stream",
     "text": [
      "1.285567097942209 1.2855670979422085\n"
     ]
    }
   ],
   "source": [
    "print(exp_cost1, exp_cost2)"
   ]
  },
  {
   "cell_type": "code",
   "execution_count": 6,
   "metadata": {},
   "outputs": [],
   "source": [
    "m = 8\n",
    "A1 = stochastic_block_model((m,m,m,m), np.array([[0.9,0.1,0.1,0.1],[0.1,0.9,0.1,0.1],[0.1,0.1,0.9,0.1],[0.1,0.1,0.1,0.9]]))\n",
    "A2 = stochastic_block_model((m,m,m,m), np.array([[0.9,0.1,0.1,0.1],[0.1,0.9,0.1,0.1],[0.1,0.1,0.9,0.1],[0.1,0.1,0.1,0.9]]))\n",
    "P1 = adj_to_trans(A1)\n",
    "P2 = adj_to_trans(A2)\n",
    "c = get_degree_cost(A1,A2)"
   ]
  },
  {
   "cell_type": "code",
   "execution_count": 7,
   "metadata": {},
   "outputs": [
    {
     "name": "stdout",
     "output_type": "stream",
     "text": [
      "26.879184246063232\n",
      "3.2068426609039307\n"
     ]
    }
   ],
   "source": [
    "start = time.time()\n",
    "iter_ctr1, exp_cost1, otc1, stat_dist1 = exact_otc1(P1, P2, c)\n",
    "end = time.time()\n",
    "print(end - start)\n",
    "\n",
    "start = time.time()\n",
    "iter_ctr2, exp_cost2, otc2, stat_dist2 = exact_otc1_pot(P1, P2, c)\n",
    "end = time.time()\n",
    "print(end - start)"
   ]
  },
  {
   "cell_type": "code",
   "execution_count": 8,
   "metadata": {},
   "outputs": [
    {
     "name": "stdout",
     "output_type": "stream",
     "text": [
      "1.4392892858169815 1.4392892858169808\n"
     ]
    }
   ],
   "source": [
    "print(exp_cost1, exp_cost2)"
   ]
  },
  {
   "cell_type": "code",
   "execution_count": 9,
   "metadata": {},
   "outputs": [],
   "source": [
    "m = 10\n",
    "A1 = stochastic_block_model((m,m,m,m), np.array([[0.9,0.1,0.1,0.1],[0.1,0.9,0.1,0.1],[0.1,0.1,0.9,0.1],[0.1,0.1,0.1,0.9]]))\n",
    "A2 = stochastic_block_model((m,m,m,m), np.array([[0.9,0.1,0.1,0.1],[0.1,0.9,0.1,0.1],[0.1,0.1,0.9,0.1],[0.1,0.1,0.1,0.9]]))\n",
    "P1 = adj_to_trans(A1)\n",
    "P2 = adj_to_trans(A2)\n",
    "c = get_degree_cost(A1,A2)"
   ]
  },
  {
   "cell_type": "code",
   "execution_count": 10,
   "metadata": {},
   "outputs": [
    {
     "name": "stdout",
     "output_type": "stream",
     "text": [
      "61.271703243255615\n",
      "9.601895093917847\n"
     ]
    }
   ],
   "source": [
    "start = time.time()\n",
    "iter_ctr1, exp_cost1, otc1, stat_dist1 = exact_otc1(P1, P2, c)\n",
    "end = time.time()\n",
    "print(end - start)\n",
    "\n",
    "start = time.time()\n",
    "iter_ctr2, exp_cost2, otc2, stat_dist2 = exact_otc1_pot(P1, P2, c)\n",
    "end = time.time()\n",
    "print(end - start)"
   ]
  },
  {
   "cell_type": "code",
   "execution_count": 11,
   "metadata": {},
   "outputs": [
    {
     "name": "stdout",
     "output_type": "stream",
     "text": [
      "0.689871580435532 0.6898715804355321\n"
     ]
    }
   ],
   "source": [
    "print(exp_cost1, exp_cost2)"
   ]
  },
  {
   "cell_type": "code",
   "execution_count": 12,
   "metadata": {},
   "outputs": [],
   "source": [
    "m = 15\n",
    "A1 = stochastic_block_model((m,m,m,m), np.array([[0.9,0.1,0.1,0.1],[0.1,0.9,0.1,0.1],[0.1,0.1,0.9,0.1],[0.1,0.1,0.1,0.9]]))\n",
    "A2 = stochastic_block_model((m,m,m,m), np.array([[0.9,0.1,0.1,0.1],[0.1,0.9,0.1,0.1],[0.1,0.1,0.9,0.1],[0.1,0.1,0.1,0.9]]))\n",
    "P1 = adj_to_trans(A1)\n",
    "P2 = adj_to_trans(A2)\n",
    "c = get_degree_cost(A1,A2)"
   ]
  },
  {
   "cell_type": "code",
   "execution_count": 13,
   "metadata": {},
   "outputs": [
    {
     "name": "stdout",
     "output_type": "stream",
     "text": [
      "308.20375204086304\n",
      "54.733311891555786\n"
     ]
    }
   ],
   "source": [
    "start = time.time()\n",
    "iter_ctr1, exp_cost1, otc1, stat_dist1 = exact_otc1(P1, P2, c)\n",
    "end = time.time()\n",
    "print(end - start)\n",
    "\n",
    "start = time.time()\n",
    "iter_ctr2, exp_cost2, otc2, stat_dist2 = exact_otc1_pot(P1, P2, c)\n",
    "end = time.time()\n",
    "print(end - start)"
   ]
  },
  {
   "cell_type": "code",
   "execution_count": 14,
   "metadata": {},
   "outputs": [
    {
     "name": "stdout",
     "output_type": "stream",
     "text": [
      "1.492216240947886 1.4922162409478856\n"
     ]
    }
   ],
   "source": [
    "print(exp_cost1, exp_cost2)"
   ]
  },
  {
   "cell_type": "code",
   "execution_count": 15,
   "metadata": {},
   "outputs": [],
   "source": [
    "m = 20\n",
    "A1 = stochastic_block_model((m,m,m,m), np.array([[0.9,0.1,0.1,0.1],[0.1,0.9,0.1,0.1],[0.1,0.1,0.9,0.1],[0.1,0.1,0.1,0.9]]))\n",
    "A2 = stochastic_block_model((m,m,m,m), np.array([[0.9,0.1,0.1,0.1],[0.1,0.9,0.1,0.1],[0.1,0.1,0.9,0.1],[0.1,0.1,0.1,0.9]]))\n",
    "P1 = adj_to_trans(A1)\n",
    "P2 = adj_to_trans(A2)\n",
    "c = get_degree_cost(A1,A2)"
   ]
  },
  {
   "cell_type": "code",
   "execution_count": 16,
   "metadata": {},
   "outputs": [
    {
     "name": "stdout",
     "output_type": "stream",
     "text": [
      "1246.13187789917\n",
      "322.439866065979\n"
     ]
    }
   ],
   "source": [
    "start = time.time()\n",
    "iter_ctr1, exp_cost1, otc1, stat_dist1 = exact_otc1(P1, P2, c)\n",
    "end = time.time()\n",
    "print(end - start)\n",
    "\n",
    "start = time.time()\n",
    "iter_ctr2, exp_cost2, otc2, stat_dist2 = exact_otc1_pot(P1, P2, c)\n",
    "end = time.time()\n",
    "print(end - start)"
   ]
  },
  {
   "cell_type": "code",
   "execution_count": 17,
   "metadata": {},
   "outputs": [
    {
     "name": "stdout",
     "output_type": "stream",
     "text": [
      "2.6398885107938126 2.6398885107938113\n"
     ]
    }
   ],
   "source": [
    "print(exp_cost1, exp_cost2)"
   ]
  },
  {
   "cell_type": "code",
   "execution_count": 18,
   "metadata": {},
   "outputs": [],
   "source": [
    "m = 25\n",
    "A1 = stochastic_block_model((m,m,m,m), np.array([[0.9,0.1,0.1,0.1],[0.1,0.9,0.1,0.1],[0.1,0.1,0.9,0.1],[0.1,0.1,0.1,0.9]]))\n",
    "A2 = stochastic_block_model((m,m,m,m), np.array([[0.9,0.1,0.1,0.1],[0.1,0.9,0.1,0.1],[0.1,0.1,0.9,0.1],[0.1,0.1,0.1,0.9]]))\n",
    "P1 = adj_to_trans(A1)\n",
    "P2 = adj_to_trans(A2)\n",
    "c = get_degree_cost(A1,A2)"
   ]
  },
  {
   "cell_type": "code",
   "execution_count": 19,
   "metadata": {},
   "outputs": [
    {
     "name": "stdout",
     "output_type": "stream",
     "text": [
      "3890.412990093231\n",
      "1340.1155099868774\n"
     ]
    }
   ],
   "source": [
    "start = time.time()\n",
    "iter_ctr1, exp_cost1, otc1, stat_dist1 = exact_otc1(P1, P2, c)\n",
    "end = time.time()\n",
    "print(end - start)\n",
    "\n",
    "start = time.time()\n",
    "iter_ctr2, exp_cost2, otc2, stat_dist2 = exact_otc1_pot(P1, P2, c)\n",
    "end = time.time()\n",
    "print(end - start)"
   ]
  },
  {
   "cell_type": "code",
   "execution_count": 20,
   "metadata": {},
   "outputs": [
    {
     "name": "stdout",
     "output_type": "stream",
     "text": [
      "1.247640245220797 1.2476402452207962\n"
     ]
    }
   ],
   "source": [
    "print(exp_cost1, exp_cost2)"
   ]
  },
  {
   "cell_type": "code",
   "execution_count": 21,
   "metadata": {},
   "outputs": [
    {
     "name": "stdout",
     "output_type": "stream",
     "text": [
      "7579.110632896423\n"
     ]
    }
   ],
   "source": [
    "m = 30\n",
    "A1 = stochastic_block_model((m,m,m,m), np.array([[0.9,0.1,0.1,0.1],[0.1,0.9,0.1,0.1],[0.1,0.1,0.9,0.1],[0.1,0.1,0.1,0.9]]))\n",
    "A2 = stochastic_block_model((m,m,m,m), np.array([[0.9,0.1,0.1,0.1],[0.1,0.9,0.1,0.1],[0.1,0.1,0.9,0.1],[0.1,0.1,0.1,0.9]]))\n",
    "P1 = adj_to_trans(A1)\n",
    "P2 = adj_to_trans(A2)\n",
    "c = get_degree_cost(A1,A2)\n",
    "\n",
    "start = time.time()\n",
    "iter_ctr2, exp_cost2, otc2, stat_dist2 = exact_otc1_pot(P1, P2, c)\n",
    "end = time.time()\n",
    "print(end - start)"
   ]
  },
  {
   "cell_type": "code",
   "execution_count": null,
   "metadata": {},
   "outputs": [],
   "source": []
  }
 ],
 "metadata": {
  "kernelspec": {
   "display_name": "NetOTC",
   "language": "python",
   "name": "python3"
  },
  "language_info": {
   "codemirror_mode": {
    "name": "ipython",
    "version": 3
   },
   "file_extension": ".py",
   "mimetype": "text/x-python",
   "name": "python",
   "nbconvert_exporter": "python",
   "pygments_lexer": "ipython3",
   "version": "3.9.18"
  }
 },
 "nbformat": 4,
 "nbformat_minor": 2
}
