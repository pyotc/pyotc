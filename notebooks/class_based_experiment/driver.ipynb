{
 "cells": [
  {
   "cell_type": "code",
   "execution_count": null,
   "metadata": {},
   "outputs": [],
   "source": [
    "from OTC import ExactOTC\n",
    "import numpy as np\n",
    "\n",
    "P = [np.array([[.5, .5], [.5, .5]])]\n",
    "Q = [np.array([[0, 1], [1, 0]])]\n",
    "c = [np.array()]\n",
    "exact_otc = ExactOTC(P=P, Q=Q, c=c)\n",
    "\n",
    "# takes one step of evaluation and improvement\n",
    "exact_otc.step()\n",
    "# psuedo code above becomes\n",
    "exact_otc.reset()\n",
    "converged = False\n",
    "tau = 0.0001\n",
    "while not converged:\n",
    "    # pyotc provides interface to step\n",
    "    exact_otc.step()\n",
    "    # user defines stopping criteria\n",
    "    d = np.linalg.norm(exact_otc.R[-1] - exact_otc.R[-2])\n",
    "    converged = d < converged\n",
    "\n",
    "print(f\"Optimal Transport Coupling is {exact_otc.R[-1]}\")"
   ]
  },
  {
   "cell_type": "code",
   "execution_count": null,
   "metadata": {},
   "outputs": [],
   "source": [
    "import numpy as np\n",
    "\n",
    "P = np.array([[.5, .5],[.5, .5]])\n",
    "Q = np.array([[0,1],[1,0]])"
   ]
  },
  {
   "cell_type": "code",
   "execution_count": 13,
   "metadata": {},
   "outputs": [
    {
     "data": {
      "text/plain": [
       "array([[0. , 0.5, 0. , 0.5],\n",
       "       [0.5, 0. , 0.5, 0. ],\n",
       "       [0. , 0.5, 0. , 0.5],\n",
       "       [0.5, 0. , 0.5, 0. ]])"
      ]
     },
     "execution_count": 13,
     "metadata": {},
     "output_type": "execute_result"
    }
   ],
   "source": [
    "np.kron(P,Q)"
   ]
  },
  {
   "cell_type": "code",
   "execution_count": null,
   "metadata": {},
   "outputs": [],
   "source": []
  },
  {
   "cell_type": "markdown",
   "metadata": {},
   "source": []
  }
 ],
 "metadata": {
  "kernelspec": {
   "display_name": "pyotc",
   "language": "python",
   "name": "python3"
  },
  "language_info": {
   "codemirror_mode": {
    "name": "ipython",
    "version": 3
   },
   "file_extension": ".py",
   "mimetype": "text/x-python",
   "name": "python",
   "nbconvert_exporter": "python",
   "pygments_lexer": "ipython3",
   "version": "3.10.14"
  }
 },
 "nbformat": 4,
 "nbformat_minor": 2
}
