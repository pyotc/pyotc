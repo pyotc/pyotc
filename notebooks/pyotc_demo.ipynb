{
 "cells": [
  {
   "cell_type": "code",
   "execution_count": 3,
   "metadata": {},
   "outputs": [],
   "source": [
    "from pyotc.otc_backend.policy_iteration.exact import exact_otc1"
   ]
  }
 ],
 "metadata": {
  "kernelspec": {
   "display_name": "pyotc",
   "language": "python",
   "name": "pyotc"
  },
  "language_info": {
   "codemirror_mode": {
    "name": "ipython",
    "version": 3
   },
   "file_extension": ".py",
   "mimetype": "text/x-python",
   "name": "python",
   "nbconvert_exporter": "python",
   "pygments_lexer": "ipython3",
   "version": "3.10.14"
  }
 },
 "nbformat": 4,
 "nbformat_minor": 2
}
