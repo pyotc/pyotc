{
 "cells": [
  {
   "cell_type": "markdown",
   "metadata": {},
   "source": [
    "# Background on processes and Markov Chains"
   ]
  },
  {
   "cell_type": "markdown",
   "metadata": {},
   "source": [
    "The [transportation problem](https://en.wikipedia.org/wiki/Transportation_theory_(mathematics)) is concerned with finding how much it costs to move mass (represented as a probability measure) to another arrangement or distribution (i.e. another probability measure). Probability measures appear naturally from many sources. Instead of considering a single measure one might index these and consider the notion of process. The simplest processes are [Markov Chains](https://en.wikipedia.org/wiki/Markov_chain) which indexed by positive integers, i.e. [discrete time Markov Chains (DTMC)](https://en.wikipedia.org/wiki/Discrete-time_Markov_chain). We provide and un-pack the following standard defintion for clarity."
   ]
  },
  {
   "cell_type": "markdown",
   "metadata": {},
   "source": [
    "````{prf:definition} Discrete Time Markov Chain\n",
    ":label: dtmc\n",
    "\n",
    "A discrete-time Markov chain is a sequence of random variables $X_0, X_1, X_2, \\ldots$ with the Markov property, namely that the probability of moving to the next state depends only on the present state and not on the previous states:\n",
    "\n",
    "$\\Pr(X_{n+1}=x\\mid X_1=x_1, X_2=x_2, \\ldots, X_n=x_n) = \\Pr(X_{n+1}=x\\mid X_n=x_n)$, if both conditional probability are well defined, that is, if $\\Pr(X_1=x_1,\\ldots,X_n=x_n)>0$.\n",
    "\n",
    "The possible values of $X_i$ form a countable set $S$ called the state space of the chain.\n",
    "````"
   ]
  },
  {
   "cell_type": "markdown",
   "metadata": {},
   "source": [
    "Let's illustrate this definition by choosing a state space, $S = \\{0,1\\}$ and assume time-homogeneity or stationarity (i.e. $\\Pr(X_{n+1}=x\\mid X_n=y) = \\Pr(X_n=x\\mid X_{n-1}=y)$). This means practically that we can represent the conditional probabilities in a matrix as follows:\n",
    "```{math}\n",
    ":label: chain_1\n",
    "\\begin{aligned}\n",
    "\\Pr(X_{n+1} = i \\mid X_n = j) &= \n",
    "\\begin{bmatrix}\n",
    "\\Pr(X_{n+1} = 0 \\mid X_n = 0) & \\Pr(X_{n+1} = 0 \\mid X_n = 1) \\\\\n",
    "\\Pr(X_{n+1} = 1 \\mid X_n = 0) & \\Pr(X_{n+1} = 1 \\mid X_n = 1)\n",
    "\\end{bmatrix}\n",
    "=\n",
    "\\begin{bmatrix}\n",
    "1/2 & 1/2 \\\\\n",
    "1/2 & 1/2\n",
    "\\end{bmatrix}\n",
    "\\end{aligned}\n",
    "```\n",
    "Here we have selected some probabilities for illustration purposed."
   ]
  },
  {
   "cell_type": "markdown",
   "metadata": {},
   "source": [
    "\n",
    "In this context, key observation can be made about optimal transport related to stationary Markov Chains. Namely, optimal transport on stationary distributions alone does not distinguish chains with different dynamics. The following is given in Section 2. of [Optimal Transport for Stationary Markov Chains via Policy Iteration](https://jmlr.csail.mit.edu/papers/v23/21-0519.html). In addition to the chain specified in {numref}`chain_1` consider teh following additional chain:\n",
    "\n",
    "```{math}\n",
    ":label: chain_2\n",
    "\\begin{aligned}\n",
    "\\Pr(X_{n+1} = i \\mid X_n = j) &= \n",
    "\\begin{bmatrix}\n",
    "\\Pr(X_{n+1} = 0 \\mid X_n = 0) & \\Pr(X_{n+1} = 0 \\mid X_n = 1) \\\\\n",
    "\\Pr(X_{n+1} = 1 \\mid X_n = 0) & \\Pr(X_{n+1} = 1 \\mid X_n = 1)\n",
    "\\end{bmatrix}\n",
    "=\n",
    "\\begin{bmatrix}\n",
    "0 & 1 \\\\\n",
    "1 & 0\n",
    "\\end{bmatrix}\n",
    "\\end{aligned}\n",
    "```\n"
   ]
  },
  {
   "cell_type": "markdown",
   "metadata": {},
   "source": [
    "In both of these case one can readily verify the following relations which demonstrate the stationary distribution of these chains are identical.\n",
    "\n",
    "```{math}\n",
    ":label: stationary_dist\n",
    "\\begin{aligned}\n",
    "\\begin{bmatrix}\n",
    "1/2 & 1/2 \\\\\n",
    "1/2 & 1/2\n",
    "\\end{bmatrix}\n",
    "\\begin{bmatrix}\n",
    "1/2 \\\\\n",
    "1/2\n",
    "\\end{bmatrix}\n",
    "= \n",
    "\\begin{bmatrix}\n",
    "1/2 \\\\\n",
    "1/2\n",
    "\\end{bmatrix},\n",
    "\\ \\\n",
    "\\begin{bmatrix}\n",
    "0 & 1 \\\\\n",
    "1 & 0\n",
    "\\end{bmatrix}\n",
    "\\begin{bmatrix}\n",
    "1/2 \\\\\n",
    "1/2\n",
    "\\end{bmatrix}\n",
    "= \n",
    "\\begin{bmatrix}\n",
    "1/2 \\\\\n",
    "1/2\n",
    "\\end{bmatrix}\n",
    "\\end{aligned}\n",
    "```"
   ]
  },
  {
   "cell_type": "markdown",
   "metadata": {},
   "source": [
    "Thus, we compare these chains by solving the transportation problem between their stationary distributions with any allowable cost, we find a zero cost transportation plan. We note, as is noted by the authors that the first chain is IID and while the second is deterministic (after conditioning). Adding a practical dimension, we have coin flipping deciding a state and fixed rules deciding state in the other. It would be desirable to have a way to separate these situations. This is precisely what the work: [Optimal Transport for Stationary Markov Chains via Policy Iteration](https://jmlr.csail.mit.edu/papers/v23/21-0519.html) does."
   ]
  },
  {
   "cell_type": "markdown",
   "metadata": {},
   "source": [
    "## Reformulating the transition coupling problem as an MDP\n",
    "\n",
    "Following [Optimal Transport for Stationary Markov Chains via Policy Iteration](https://jmlr.csail.mit.edu/papers/v23/21-0519.html) we develop and implement their algorithm to resolve the problem demonstrated above. Their approach is to recognize that we can distinguish these stationary chains consider transition coupling that intuitively include more subspace information. This is done by recognizing one can seek so called *transition couplings* which as their name suggests couple transition matrices."
   ]
  },
  {
   "cell_type": "markdown",
   "metadata": {},
   "source": [
    "````{prf:definition} Transition Couplings\n",
    ":label: transiton_coupling\n",
    "\n",
    "Let $P$ and $Q$ be transition matrices on finite state spaces $X$ and $Y$, respectively.\n",
    "A transition matrix $R \\in [0, 1]^{d^2\\times d^2}$ is a *transition coupling* of $P$ and $Q$ \n",
    "if for every paired-state $(x,y) \\in X \\times Y$, the distribution $R((x,y),\\cdot)$ is a coupling\n",
    "of the distributions $P(x, \\cdot)$ and $Q(y,\\cdot)$, formally $R((x,y),\\cdot) \\in \\Pi(P(x,\\cdot), Q(y,\\cdot))$.\n",
    "Let $\\prod_{\\text{TC}}(P,Q)$ denote the set of all transition couplings of $P$ and $Q$.\n",
    "````"
   ]
  },
  {
   "cell_type": "markdown",
   "metadata": {},
   "source": [
    "Let's build on our simplest example from above, where $X = Y = \\{0, 1\\}$ and\n",
    "\n",
    "```{math}\n",
    "\\begin{aligned}\n",
    "P = \n",
    "\\begin{bmatrix}\n",
    "1/2 & 1/2 \\\\\n",
    "1/2 & 1/2\n",
    "\\end{bmatrix}, \\ \\ \n",
    "\n",
    "P = \n",
    "\\begin{bmatrix}\n",
    "0 & 1 \\\\\n",
    "1 & 0\n",
    "\\end{bmatrix}.\n",
    "\\end{aligned}\n",
    "```\n",
    "\n",
    "Let $Z = X \\times Y = \\{(0,0), (0,1), (1, 0), (1,1)\\}$ we want coupling of the product which express as $R: Z \\to Z$ which we express using rows. We have determied the probabilities assuming independence of $P$ and $Q$.\n",
    "\n",
    "```{math}\n",
    "\\begin{aligned}\n",
    "R = \\Pr(z | (x,y))\n",
    "= \\begin{bmatrix}\n",
    "1/2\\cdot 0 & 1/2 \\cdot 1 & 1/2 \\cdot 0 & 1/2 \\cdot 1 \\\\\n",
    "1/2\\cdot 0 & 1/2 \\cdot 1 & 1/2 \\cdot 0 & 1/2 \\cdot 1 \\\\\n",
    "1/2\\cdot 0 & 1/2 \\cdot 1 & 1/2 \\cdot 0 & 1/2 \\cdot 1 \\\\\n",
    "1/2\\cdot 0 & 1/2 \\cdot 1 & 1/2 \\cdot 0 & 1/2 \\cdot 1\n",
    "\\end{bmatrix}\n",
    "= \\begin{bmatrix}\n",
    "0 & 1/2 &  0 & 1/2  \\\\\n",
    "0 & 1/2 &  0 & 1/2  \\\\\n",
    "0 & 1/2 &  0 & 1/2  \\\\\n",
    "0 & 1/2 &  0 & 1/2 \n",
    "\\end{bmatrix}.\n",
    "\\end{aligned}\n",
    "```\n",
    "\n",
    "We could perform this with matrix operations applying a change of coordinates and then performing an outer product. One could also consider other representation such as the tensor product, but this one allows the row interpretation."
   ]
  },
  {
   "cell_type": "markdown",
   "metadata": {},
   "source": [
    "We verify that retain stationary with $R$ since\n",
    "\n",
    "```{math}\n",
    "\\begin{aligned}\n",
    "\\begin{bmatrix}\n",
    "0 & 1/2 &  0 & 1/2  \\\\\n",
    "0 & 1/2 &  0 & 1/2  \\\\\n",
    "0 & 1/2 &  0 & 1/2  \\\\\n",
    "0 & 1/2 &  0 & 1/2 \n",
    "\\end{bmatrix}\n",
    "\\begin{bmatrix}\n",
    "1/2 \\\\\n",
    "1/2 \\\\\n",
    "1/2 \\\\\n",
    "1/2\n",
    "\\end{bmatrix}\n",
    "=\\begin{bmatrix}\n",
    "1/2 \\\\\n",
    "1/2 \\\\\n",
    "1/2 \\\\\n",
    "1/2\n",
    "\\end{bmatrix}\n",
    "\\end{aligned}\n",
    "\n",
    "```"
   ]
  },
  {
   "cell_type": "markdown",
   "metadata": {},
   "source": [
    "## Algorithm and implementation\n",
    "\n",
    "In the following we provide a simple implementation of the OTC algorithm using the python numerical stack. We use mainly numpy and the python optimal transport library.\n"
   ]
  },
  {
   "cell_type": "code",
   "execution_count": 37,
   "metadata": {},
   "outputs": [],
   "source": [
    "# dependencies\n",
    "import numpy as np\n",
    "import ot # POT"
   ]
  },
  {
   "cell_type": "code",
   "execution_count": 38,
   "metadata": {},
   "outputs": [],
   "source": [
    "def exact_tce(R: np.ndarray, c: np.ndarray)->tuple[np.ndarray, np.ndarray, np.ndarray]:\n",
    "    \"\"\"\n",
    "    Function that implements ExactTCE algorithm (TCE == transition coupling evaluation)\n",
    "\n",
    "    Algorithm 1a from:\n",
    "    https://jmlr.csail.mit.edu/papers/volume23/21-0519/21-0519.pdf\n",
    "    \"\"\"\n",
    "    assert R.shape[0] == R.shape[1]\n",
    "    n = R.shape[0]\n",
    "    I = np.eye(n)\n",
    "    Zeros = np.zeros_like(R)\n",
    "    M = np.block([[I-R, Zeros, Zeros], \n",
    "                  [I, I-R,  Zeros],\n",
    "                  [Zeros, I, I-R]])\n",
    "    print(M)\n",
    "    rhs = np.block([[np.zeros((n,1))], [c], [np.zeros((n,1))]])\n",
    "    x = np.linalg.solve(M, rhs)\n",
    "    g, h, w = x[0:n], x[n:2*n], x[2*n:]\n",
    "    return g, h, w"
   ]
  },
  {
   "cell_type": "code",
   "execution_count": 40,
   "metadata": {},
   "outputs": [
    {
     "name": "stdout",
     "output_type": "stream",
     "text": [
      "[[ 1.  -0.5  0.  -0.5  0.   0.   0.   0.   0.   0.   0.   0. ]\n",
      " [ 0.   0.5  0.  -0.5  0.   0.   0.   0.   0.   0.   0.   0. ]\n",
      " [ 0.  -0.5  1.  -0.5  0.   0.   0.   0.   0.   0.   0.   0. ]\n",
      " [ 0.  -0.5  0.   0.5  0.   0.   0.   0.   0.   0.   0.   0. ]\n",
      " [ 1.   0.   0.   0.   1.  -0.5  0.  -0.5  0.   0.   0.   0. ]\n",
      " [ 0.   1.   0.   0.   0.   0.5  0.  -0.5  0.   0.   0.   0. ]\n",
      " [ 0.   0.   1.   0.   0.  -0.5  1.  -0.5  0.   0.   0.   0. ]\n",
      " [ 0.   0.   0.   1.   0.  -0.5  0.   0.5  0.   0.   0.   0. ]\n",
      " [ 0.   0.   0.   0.   1.   0.   0.   0.   1.  -0.5  0.  -0.5]\n",
      " [ 0.   0.   0.   0.   0.   1.   0.   0.   0.   0.5  0.  -0.5]\n",
      " [ 0.   0.   0.   0.   0.   0.   1.   0.   0.  -0.5  1.  -0.5]\n",
      " [ 0.   0.   0.   0.   0.   0.   0.   1.   0.  -0.5  0.   0.5]]\n"
     ]
    },
    {
     "ename": "LinAlgError",
     "evalue": "Singular matrix",
     "output_type": "error",
     "traceback": [
      "\u001b[0;31m---------------------------------------------------------------------------\u001b[0m",
      "\u001b[0;31mLinAlgError\u001b[0m                               Traceback (most recent call last)",
      "Cell \u001b[0;32mIn[40], line 14\u001b[0m\n\u001b[1;32m     11\u001b[0m     R \u001b[38;5;241m=\u001b[39m example_R()\n\u001b[1;32m     12\u001b[0m     exact_tce(R\u001b[38;5;241m=\u001b[39mR, c\u001b[38;5;241m=\u001b[39mc)\n\u001b[0;32m---> 14\u001b[0m \u001b[43mtest_exact_tce\u001b[49m\u001b[43m(\u001b[49m\u001b[43m)\u001b[49m\n",
      "Cell \u001b[0;32mIn[40], line 12\u001b[0m, in \u001b[0;36mtest_exact_tce\u001b[0;34m()\u001b[0m\n\u001b[1;32m     10\u001b[0m c \u001b[38;5;241m=\u001b[39m np\u001b[38;5;241m.\u001b[39marray([\u001b[38;5;241m0\u001b[39m,\u001b[38;5;241m1\u001b[39m,\u001b[38;5;241m1\u001b[39m,\u001b[38;5;241m0\u001b[39m])\u001b[38;5;241m.\u001b[39mreshape(\u001b[38;5;241m-\u001b[39m\u001b[38;5;241m1\u001b[39m,\u001b[38;5;241m1\u001b[39m)\n\u001b[1;32m     11\u001b[0m R \u001b[38;5;241m=\u001b[39m example_R()\n\u001b[0;32m---> 12\u001b[0m \u001b[43mexact_tce\u001b[49m\u001b[43m(\u001b[49m\u001b[43mR\u001b[49m\u001b[38;5;241;43m=\u001b[39;49m\u001b[43mR\u001b[49m\u001b[43m,\u001b[49m\u001b[43m \u001b[49m\u001b[43mc\u001b[49m\u001b[38;5;241;43m=\u001b[39;49m\u001b[43mc\u001b[49m\u001b[43m)\u001b[49m\n",
      "Cell \u001b[0;32mIn[38], line 17\u001b[0m, in \u001b[0;36mexact_tce\u001b[0;34m(R, c)\u001b[0m\n\u001b[1;32m     15\u001b[0m \u001b[38;5;28mprint\u001b[39m(M)\n\u001b[1;32m     16\u001b[0m rhs \u001b[38;5;241m=\u001b[39m np\u001b[38;5;241m.\u001b[39mblock([[np\u001b[38;5;241m.\u001b[39mzeros((n,\u001b[38;5;241m1\u001b[39m))], [c], [np\u001b[38;5;241m.\u001b[39mzeros((n,\u001b[38;5;241m1\u001b[39m))]])\n\u001b[0;32m---> 17\u001b[0m x \u001b[38;5;241m=\u001b[39m \u001b[43mnp\u001b[49m\u001b[38;5;241;43m.\u001b[39;49m\u001b[43mlinalg\u001b[49m\u001b[38;5;241;43m.\u001b[39;49m\u001b[43msolve\u001b[49m\u001b[43m(\u001b[49m\u001b[43mM\u001b[49m\u001b[43m,\u001b[49m\u001b[43m \u001b[49m\u001b[43mrhs\u001b[49m\u001b[43m)\u001b[49m\n\u001b[1;32m     18\u001b[0m g, h, w \u001b[38;5;241m=\u001b[39m x[\u001b[38;5;241m0\u001b[39m:n], x[n:\u001b[38;5;241m2\u001b[39m\u001b[38;5;241m*\u001b[39mn], x[\u001b[38;5;241m2\u001b[39m\u001b[38;5;241m*\u001b[39mn:]\n\u001b[1;32m     19\u001b[0m \u001b[38;5;28;01mreturn\u001b[39;00m g, h, w\n",
      "File \u001b[0;32m/opt/anaconda3/envs/pynetotc_env/lib/python3.10/site-packages/numpy/linalg/linalg.py:409\u001b[0m, in \u001b[0;36msolve\u001b[0;34m(a, b)\u001b[0m\n\u001b[1;32m    407\u001b[0m signature \u001b[38;5;241m=\u001b[39m \u001b[38;5;124m'\u001b[39m\u001b[38;5;124mDD->D\u001b[39m\u001b[38;5;124m'\u001b[39m \u001b[38;5;28;01mif\u001b[39;00m isComplexType(t) \u001b[38;5;28;01melse\u001b[39;00m \u001b[38;5;124m'\u001b[39m\u001b[38;5;124mdd->d\u001b[39m\u001b[38;5;124m'\u001b[39m\n\u001b[1;32m    408\u001b[0m extobj \u001b[38;5;241m=\u001b[39m get_linalg_error_extobj(_raise_linalgerror_singular)\n\u001b[0;32m--> 409\u001b[0m r \u001b[38;5;241m=\u001b[39m \u001b[43mgufunc\u001b[49m\u001b[43m(\u001b[49m\u001b[43ma\u001b[49m\u001b[43m,\u001b[49m\u001b[43m \u001b[49m\u001b[43mb\u001b[49m\u001b[43m,\u001b[49m\u001b[43m \u001b[49m\u001b[43msignature\u001b[49m\u001b[38;5;241;43m=\u001b[39;49m\u001b[43msignature\u001b[49m\u001b[43m,\u001b[49m\u001b[43m \u001b[49m\u001b[43mextobj\u001b[49m\u001b[38;5;241;43m=\u001b[39;49m\u001b[43mextobj\u001b[49m\u001b[43m)\u001b[49m\n\u001b[1;32m    411\u001b[0m \u001b[38;5;28;01mreturn\u001b[39;00m wrap(r\u001b[38;5;241m.\u001b[39mastype(result_t, copy\u001b[38;5;241m=\u001b[39m\u001b[38;5;28;01mFalse\u001b[39;00m))\n",
      "File \u001b[0;32m/opt/anaconda3/envs/pynetotc_env/lib/python3.10/site-packages/numpy/linalg/linalg.py:112\u001b[0m, in \u001b[0;36m_raise_linalgerror_singular\u001b[0;34m(err, flag)\u001b[0m\n\u001b[1;32m    111\u001b[0m \u001b[38;5;28;01mdef\u001b[39;00m \u001b[38;5;21m_raise_linalgerror_singular\u001b[39m(err, flag):\n\u001b[0;32m--> 112\u001b[0m     \u001b[38;5;28;01mraise\u001b[39;00m LinAlgError(\u001b[38;5;124m\"\u001b[39m\u001b[38;5;124mSingular matrix\u001b[39m\u001b[38;5;124m\"\u001b[39m)\n",
      "\u001b[0;31mLinAlgError\u001b[0m: Singular matrix"
     ]
    }
   ],
   "source": [
    "# test exact_tce\n",
    "\n",
    "def example_R():\n",
    "    zeros_col = np.zeros(4).reshape(-1,1)\n",
    "    halves_col = 1/2*np.ones(4).reshape(-1,1)\n",
    "    R = np.block([zeros_col, halves_col, zeros_col, halves_col])\n",
    "    return R\n",
    "\n",
    "def test_exact_tce():\n",
    "    c = np.array([0,1,1,0]).reshape(-1,1)\n",
    "    R = example_R()\n",
    "    exact_tce(R=R, c=c)\n",
    "\n",
    "test_exact_tce()"
   ]
  },
  {
   "cell_type": "code",
   "execution_count": 43,
   "metadata": {},
   "outputs": [
    {
     "data": {
      "text/plain": [
       "array([[0. , 0.5, 0. , 0.5],\n",
       "       [0. , 0.5, 0. , 0.5],\n",
       "       [0. , 0.5, 0. , 0.5],\n",
       "       [0. , 0.5, 0. , 0.5]])"
      ]
     },
     "execution_count": 43,
     "metadata": {},
     "output_type": "execute_result"
    }
   ],
   "source": [
    "example_R()"
   ]
  },
  {
   "cell_type": "code",
   "execution_count": 53,
   "metadata": {},
   "outputs": [
    {
     "data": {
      "text/plain": [
       "(array([0., 0., 0., 0.]),\n",
       " array([], dtype=float64),\n",
       " 3,\n",
       " array([1.41421356e+00, 1.00000000e+00, 1.00000000e+00, 7.37425190e-17]))"
      ]
     },
     "execution_count": 53,
     "metadata": {},
     "output_type": "execute_result"
    }
   ],
   "source": [
    "np.linalg.linalg.lstsq((np.eye(4) - example_R()), np.zeros(4), rcond=None)"
   ]
  },
  {
   "cell_type": "code",
   "execution_count": 51,
   "metadata": {},
   "outputs": [
    {
     "data": {
      "text/plain": [
       "EigResult(eigenvalues=array([1.00000000e+00, 1.00000000e+00, 1.00000000e+00, 1.11022302e-16]), eigenvectors=array([[ 1.        ,  0.        ,  0.40824829,  0.5       ],\n",
       "       [ 0.        ,  0.        ,  0.57735027,  0.5       ],\n",
       "       [ 0.        ,  1.        ,  0.40824829,  0.5       ],\n",
       "       [ 0.        ,  0.        , -0.57735027,  0.5       ]]))"
      ]
     },
     "execution_count": 51,
     "metadata": {},
     "output_type": "execute_result"
    }
   ],
   "source": [
    "np.linalg.eig(np.eye(4) - example_R())"
   ]
  }
 ],
 "metadata": {
  "kernelspec": {
   "display_name": "Python 3 (ipykernel)",
   "language": "python",
   "name": "python3"
  },
  "language_info": {
   "codemirror_mode": {
    "name": "ipython",
    "version": 3
   },
   "file_extension": ".py",
   "mimetype": "text/x-python",
   "name": "python",
   "nbconvert_exporter": "python",
   "pygments_lexer": "ipython3",
   "version": "3.10.13"
  }
 },
 "nbformat": 4,
 "nbformat_minor": 4
}
